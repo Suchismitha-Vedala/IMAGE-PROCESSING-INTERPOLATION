{
 "cells": [
  {
   "cell_type": "code",
   "execution_count": 1,
   "metadata": {
    "collapsed": true
   },
   "outputs": [],
   "source": [
    "import os\n",
    "import numpy as np\n",
    "import cv2\n",
    "from datetime import datetime\n",
    "import math \n",
    "import matplotlib.pyplot  as plt"
   ]
  },
  {
   "cell_type": "code",
   "execution_count": 2,
   "metadata": {},
   "outputs": [],
   "source": [
    "z = np.arange(65024).reshape(254,256)"
   ]
  },
  {
   "cell_type": "code",
   "execution_count": null,
   "metadata": {},
   "outputs": [],
   "source": [
    "[x,y]="
   ]
  },
  {
   "cell_type": "code",
   "execution_count": 3,
   "metadata": {
    "collapsed": true
   },
   "outputs": [],
   "source": [
    "x = list(xrange(254))\n",
    "y=list(xrange(256))"
   ]
  },
  {
   "cell_type": "code",
   "execution_count": 4,
   "metadata": {
    "collapsed": true
   },
   "outputs": [],
   "source": [
    "fx=fy=2"
   ]
  },
  {
   "cell_type": "code",
   "execution_count": 5,
   "metadata": {
    "collapsed": true
   },
   "outputs": [],
   "source": [
    "[xx, yy] = np.meshgrid(x, y)"
   ]
  },
  {
   "cell_type": "code",
   "execution_count": 6,
   "metadata": {},
   "outputs": [],
   "source": [
    "xx=x*fx\n",
    "yy=x*fy"
   ]
  },
  {
   "cell_type": "code",
   "execution_count": 7,
   "metadata": {},
   "outputs": [],
   "source": [
    "c = np.floor(yy)\n",
    "r = np.floor(xx)"
   ]
  },
  {
   "cell_type": "code",
   "execution_count": 8,
   "metadata": {},
   "outputs": [],
   "source": [
    " r[r < 1] = 1\n",
    "    "
   ]
  },
  {
   "cell_type": "code",
   "execution_count": 9,
   "metadata": {},
   "outputs": [],
   "source": [
    "c[c<1]=1\n"
   ]
  },
  {
   "cell_type": "code",
   "execution_count": 10,
   "metadata": {},
   "outputs": [],
   "source": [
    "r[r > 254 - 1] = 254 - 1\n",
    "c[c > 256 - 1] = 256 - 1"
   ]
  },
  {
   "cell_type": "markdown",
   "metadata": {},
   "source": [
    "for i in range(254):\n",
    "    if r[i]>x[i]-1:\n",
    "        r[i]=x[i]-1"
   ]
  },
  {
   "cell_type": "markdown",
   "metadata": {},
   "source": [
    "for j in range(256):\n",
    "    if c[j]>y[j]-1:\n",
    "        c[j]=y[j]-1"
   ]
  },
  {
   "cell_type": "code",
   "execution_count": 11,
   "metadata": {
    "collapsed": true
   },
   "outputs": [],
   "source": [
    "delta_R =  xx - r\n",
    "delta_C =  yy - c"
   ]
  },
  {
   "cell_type": "code",
   "execution_count": 12,
   "metadata": {
    "collapsed": true
   },
   "outputs": [],
   "source": [
    "def sub2ind(array_shape, rows, cols):\n",
    "    ind = rows*array_shape[0] + cols\n",
    "    ind[ind < 0] = -1\n",
    "    ind[ind >= array_shape[0]*array_shape[1]] = -1\n",
    "    return ind"
   ]
  },
  {
   "cell_type": "code",
   "execution_count": 13,
   "metadata": {},
   "outputs": [],
   "source": [
    "in1_ind = sub2ind([254, 256], r, c)\n",
    "in2_ind = sub2ind([254, 256], r+1,c)\n",
    "in3_ind = sub2ind([254, 256], r, c+1)\n",
    "in4_ind = sub2ind([254, 256], r+1, c+1)"
   ]
  },
  {
   "cell_type": "code",
   "execution_count": 20,
   "metadata": {
    "collapsed": true
   },
   "outputs": [],
   "source": [
    "p=508\n",
    "q=512\n",
    "z=3"
   ]
  },
  {
   "cell_type": "code",
   "execution_count": 21,
   "metadata": {},
   "outputs": [],
   "source": [
    "\n",
    "out = np.zeros((int(p), int(q), int(z)))"
   ]
  },
  {
   "cell_type": "code",
   "execution_count": null,
   "metadata": {
    "collapsed": true
   },
   "outputs": [],
   "source": [
    "for idx in range(z):\n",
    "    "
   ]
  },
  {
   "cell_type": "code",
   "execution_count": null,
   "metadata": {},
   "outputs": [],
   "source": [
    "xi=np.arrange(16256).reshape(127,128)"
   ]
  },
  {
   "cell_type": "code",
   "execution_count": null,
   "metadata": {
    "collapsed": true
   },
   "outputs": [],
   "source": [
    "eta=False"
   ]
  },
  {
   "cell_type": "code",
   "execution_count": null,
   "metadata": {},
   "outputs": [],
   "source": [
    "outside = (xi < x[0]) + (eta < y[0]) + (xi > x[-1]) + (eta > y[-1])"
   ]
  },
  {
   "cell_type": "code",
   "execution_count": null,
   "metadata": {
    "collapsed": true
   },
   "outputs": [],
   "source": [
    "for i in range(254):\n",
    "    for j in range(new_y-1):\n",
    "        d[i][j]="
   ]
  },
  {
   "cell_type": "code",
   "execution_count": 22,
   "metadata": {
    "collapsed": true
   },
   "outputs": [],
   "source": [
    "img = cv2.imread('cells.png')\n",
    "h,v,d = img.shape"
   ]
  },
  {
   "cell_type": "code",
   "execution_count": 29,
   "metadata": {},
   "outputs": [
    {
     "ename": "AttributeError",
     "evalue": "'numpy.ndarray' object has no attribute 'imload'",
     "output_type": "error",
     "traceback": [
      "\u001b[0;31m---------------------------------------------------------------------------\u001b[0m",
      "\u001b[0;31mAttributeError\u001b[0m                            Traceback (most recent call last)",
      "\u001b[0;32m<ipython-input-29-6c50ccee2f5b>\u001b[0m in \u001b[0;36m<module>\u001b[0;34m()\u001b[0m\n\u001b[1;32m      1\u001b[0m \u001b[0;34m\u001b[0m\u001b[0m\n\u001b[0;32m----> 2\u001b[0;31m \u001b[0mpix\u001b[0m \u001b[0;34m=\u001b[0m \u001b[0mimg\u001b[0m\u001b[0;34m.\u001b[0m\u001b[0mimload\u001b[0m\u001b[0;34m(\u001b[0m\u001b[0;34m)\u001b[0m\u001b[0;34m\u001b[0m\u001b[0m\n\u001b[0m",
      "\u001b[0;31mAttributeError\u001b[0m: 'numpy.ndarray' object has no attribute 'imload'"
     ]
    }
   ],
   "source": [
    "\n",
    "pix = img.imload()"
   ]
  },
  {
   "cell_type": "code",
   "execution_count": 23,
   "metadata": {},
   "outputs": [
    {
     "ename": "SyntaxError",
     "evalue": "invalid syntax (<ipython-input-23-1163b960af9d>, line 3)",
     "output_type": "error",
     "traceback": [
      "\u001b[0;36m  File \u001b[0;32m\"<ipython-input-23-1163b960af9d>\"\u001b[0;36m, line \u001b[0;32m3\u001b[0m\n\u001b[0;31m    im1(1+(i-1)*2,1+(j-1)*3,:)=img(i,j,:)\u001b[0m\n\u001b[0m                            ^\u001b[0m\n\u001b[0;31mSyntaxError\u001b[0m\u001b[0;31m:\u001b[0m invalid syntax\n"
     ]
    }
   ],
   "source": [
    "for i in range(h):\n",
    "    for j in range(v):\n",
    "        im1.loc[1+(i-1)*2][1+(j-1)*2][1,:]=img.loc[i][j][1,:]"
   ]
  },
  {
   "cell_type": "code",
   "execution_count": null,
   "metadata": {
    "collapsed": true
   },
   "outputs": [],
   "source": [
    "function bilinear_zoom()\n",
    "\n",
    "img = cv2.imread('cells.png')\n",
    "h,v,d = img.shape\n",
    "for i in range(h):\n",
    "    for j in range(v):\n",
    "        \n",
    "\n",
    "\n",
    "\n",
    "im0=imread(file);\n",
    "im=cast(im0,'int16'); %due to im0 is a uint8 type, im0 does not support negative values and integers grater than 255\n",
    "imshow(cast(im,'uint8')); %due to imshow does not support int16 \n",
    "pause;\n",
    "\n",
    "[h,v,d]=size(im);\n",
    "\n",
    "for i=1:h\n",
    "    for j=1:v\n",
    "      im1(1+(i-1)*fac,1+(j-1)*fac,:)=im(i,j,:); %mapping pixels of given image to a new array so that zooming factor is satisfied. \n",
    "    end\n",
    "       imshow(cast(im1,'uint8')); %displaying image being mapped from original image.\n",
    "end\n",
    "\n",
    "%bilinear interpolation\n",
    "for i=1:1+(h-2)*fac     %row number\n",
    "    for j=1:1+(v-2)*fac %column number\n",
    "    \n",
    "       if ((rem(i-1,fac)==0) && (rem(j-1,fac)==0)) % maped values from the original picture should not be recalculated.     \n",
    "       else  %for pixels that should be calculated.\n",
    "           h00=im1( ceil(i/fac)*fac-fac+1,ceil(j/fac)*fac-fac+1,:); %nearest four known pixels for the pixel being calculated.\n",
    "           h10=im1( ceil(i/fac)*fac-fac+1+fac,ceil(j/fac)*fac-fac+1,:);\n",
    "           h01=im1( ceil(i/fac)*fac-fac+1,ceil(j/fac)*fac-fac+1+fac,:);\n",
    "           h11=im1( ceil(i/fac)*fac-fac+1+fac,ceil(j/fac)*fac-fac+1+fac,:);\n",
    "           \n",
    "           x=rem(i-1,fac); %coordinates of calculating pixel.\n",
    "           y=rem(j-1,fac);  \n",
    "          \n",
    "           dx=x/fac; %localizeing the  pixel being calculated to the nearest four know pixels.\n",
    "           dy=y/fac;\n",
    "          \n",
    "           b1=h00;    %constants of bilinear interpolation.\n",
    "           b2=h10-h00;\n",
    "           b3=h01-h00;\n",
    "           b4=h00-h10-h01+h11;           \n",
    "           im1(i,j,:)=b1+b2*dx+b3*dy+b4*dx*dy; %equation of bilinear interpolation.\n",
    "         end\n",
    "        end\n",
    "  imshow(cast(im1,'uint8')); %displaying image being interpolated.\n",
    "end\n",
    "\n",
    "imshow(cast(im1,'uint8'));\n",
    "imwrite(cast(im1,'uint8'),'zoomed_pic.jpg'"
   ]
  },
  {
   "cell_type": "code",
   "execution_count": null,
   "metadata": {
    "collapsed": true
   },
   "outputs": [],
   "source": []
  },
  {
   "cell_type": "code",
   "execution_count": null,
   "metadata": {
    "collapsed": true
   },
   "outputs": [],
   "source": []
  },
  {
   "cell_type": "code",
   "execution_count": null,
   "metadata": {
    "collapsed": true
   },
   "outputs": [],
   "source": []
  },
  {
   "cell_type": "code",
   "execution_count": null,
   "metadata": {
    "collapsed": true
   },
   "outputs": [],
   "source": []
  }
 ],
 "metadata": {
  "kernelspec": {
   "display_name": "Python 2",
   "language": "python",
   "name": "python2"
  },
  "language_info": {
   "codemirror_mode": {
    "name": "ipython",
    "version": 2
   },
   "file_extension": ".py",
   "mimetype": "text/x-python",
   "name": "python",
   "nbconvert_exporter": "python",
   "pygments_lexer": "ipython2",
   "version": "2.7.13"
  }
 },
 "nbformat": 4,
 "nbformat_minor": 2
}
