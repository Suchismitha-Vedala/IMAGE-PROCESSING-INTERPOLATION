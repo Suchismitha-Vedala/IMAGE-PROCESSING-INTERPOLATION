{
 "cells": [
  {
   "cell_type": "code",
   "execution_count": 15,
   "metadata": {},
   "outputs": [
    {
     "data": {
      "text/plain": [
       "{'divide': 'ignore', 'invalid': 'ignore', 'over': 'warn', 'under': 'ignore'}"
      ]
     },
     "execution_count": 15,
     "metadata": {},
     "output_type": "execute_result"
    }
   ],
   "source": [
    "import cv2\n",
    "import numpy as np\n",
    "from matplotlib import pyplot as plt\n",
    "np.seterr(divide='ignore', invalid='ignore')"
   ]
  },
  {
   "cell_type": "code",
   "execution_count": 16,
   "metadata": {
    "scrolled": false
   },
   "outputs": [
    {
     "data": {
      "text/plain": [
       "'\\nS = [0] * k\\nfor i in range(w):\\n    for j in range(h):\\n        if R[i, j] > 0:\\n            S[R[i, j]] = S[R[i, j]] + 1\\nprint np.unique(S)\\n\\nfor i in range(w):\\n    for j in range(h):\\n            if S[R[i, j]] > 15:\\n                R1[i, j] = R[i, j]\\n                if R1[i, j] == 0:\\n                    R1[i, j] = 0\\n                else:\\n                    R1[i, j] = 255\\n\\n'"
      ]
     },
     "execution_count": 16,
     "metadata": {},
     "output_type": "execute_result"
    }
   ],
   "source": [
    "new_img = cv2.imread('cells.png',0)\n",
    "w,h=new_img.shape\n",
    "img=np.zeros((w,h),np.uint8)\n",
    "optimal=128.5\n",
    "for i in range(w):\n",
    "    for j in range(h):\n",
    "        if (new_img[i,j]>=optimal):\n",
    "            img[i,j]=0\n",
    "        else:\n",
    "            img[i,j]=255\n",
    "w,h=img.shape\n",
    "k=1\n",
    "R=np.zeros((w,h),np.uint32)\n",
    "R1=np.zeros((w,h),np.uint8)\n",
    "for j in range(h):\n",
    "    for i in range(w):\n",
    "        if (img[i,j]==255):\n",
    "            if (i==0 and j>0) :\n",
    "                if (R[i, j-1]==0) :\n",
    "                    R[i, j] = k\n",
    "                    k = k + 1\n",
    "                if (R[i, j - 1] > 0):\n",
    "                    R[i, j] = R[i, j-1]\n",
    "                \n",
    "                \n",
    "            if (j==0 and i>0) :\n",
    "                if (R[i-1,j]>0):\n",
    "                    R[i,j]=R[i-1,j]\n",
    "                if (R[i-1,j]==0):\n",
    "                    R[i, j] = k\n",
    "                    k = k + 1\n",
    "                \n",
    "            if(i-1>=0 and j-1>=0):\n",
    "                if( R[i][j-1]>0 and R[i-1][j]==0):\n",
    "                    R[i,j]=R[i,j-1]\n",
    "                if( R[i][j-1]==0 and R[i-1][j]>0):\n",
    "                    R[i,j]=R[i-1,j]\n",
    "                if( R[i][j-1]==0 and R[i-1][j]==0):\n",
    "                    R[i,j]=k\n",
    "                    k=k+1\n",
    "                if( R[i][j-1]>0 and R[i-1][j]>0):\n",
    "                    R[i,j]=R[i,j-1]\n",
    "                    R[i-1,j]=R[i,j-1]\n",
    "                    p=2\n",
    "                    q=0\n",
    "                    while(q==0):\n",
    "                        if (R[i-p,j]!=0):\n",
    "                                R[i-p,j]=R[i-p+1,j]\n",
    "                                p=p+1\n",
    "                        \n",
    "                        else :\n",
    "                                q=1\n",
    "'''\n",
    "S = [0] * k\n",
    "for i in range(w):\n",
    "    for j in range(h):\n",
    "        if R[i, j] > 0:\n",
    "            S[R[i, j]] = S[R[i, j]] + 1\n",
    "print np.unique(S)\n",
    "\n",
    "for i in range(w):\n",
    "    for j in range(h):\n",
    "            if S[R[i, j]] > 15:\n",
    "                R1[i, j] = R[i, j]\n",
    "                if R1[i, j] == 0:\n",
    "                    R1[i, j] = 0\n",
    "                else:\n",
    "                    R1[i, j] = 255\n",
    "\n",
    "'''"
   ]
  },
  {
   "cell_type": "code",
   "execution_count": 17,
   "metadata": {},
   "outputs": [
    {
     "name": "stdout",
     "output_type": "stream",
     "text": [
      "256 area 638\n",
      "1 area 19\n",
      "2 area 497\n",
      "3 area 261\n",
      "4 area 201\n",
      "262 area 74\n",
      "7 area 87\n",
      "392 area 174\n",
      "14 area 403\n",
      "143 area 355\n",
      "273 area 161\n",
      "275 area 387\n",
      "20 area 421\n",
      "406 area 64\n",
      "151 area 654\n",
      "299 area 160\n",
      "283 area 274\n",
      "30 area 506\n",
      "31 area 452\n",
      "163 area 588\n",
      "326 area 275\n",
      "167 area 417\n",
      "169 area 568\n",
      "170 area 87\n",
      "135 area 412\n",
      "45 area 533\n",
      "46 area 245\n",
      "304 area 262\n",
      "305 area 235\n",
      "314 area 589\n",
      "316 area 257\n",
      "62 area 220\n",
      "193 area 390\n",
      "69 area 208\n",
      "198 area 442\n",
      "60 area 368\n",
      "79 area 527\n",
      "81 area 182\n",
      "82 area 397\n",
      "211 area 70\n",
      "340 area 552\n",
      "342 area 370\n",
      "89 area 184\n",
      "346 area 221\n",
      "95 area 631\n",
      "97 area 232\n",
      "226 area 433\n",
      "114 area 47\n",
      "228 area 622\n",
      "357 area 50\n",
      "209 area 269\n",
      "233 area 668\n",
      "366 area 470\n",
      "239 area 839\n",
      "240 area 484\n",
      "241 area 152\n",
      "370 area 349\n",
      "374 area 471\n",
      "121 area 885\n",
      "136 area 609\n",
      "Region 256 Centroid [181, 179] Area 638\n",
      "Region 1 Centroid [26, 0] Area 19\n",
      "Region 2 Centroid [97, 7] Area 497\n",
      "Region 3 Centroid [139, 7] Area 261\n",
      "Region 4 Centroid [225, 3] Area 201\n",
      "Region 262 Centroid [251, 178] Area 74\n",
      "Region 7 Centroid [44, 7] Area 87\n",
      "Region 392 Centroid [105, 250] Area 174\n",
      "Region 14 Centroid [168, 16] Area 403\n",
      "Region 143 Centroid [111, 102] Area 355\n",
      "Region 273 Centroid [156, 188] Area 161\n",
      "Region 275 Centroid [59, 194] Area 387\n",
      "Region 20 Centroid [13, 20] Area 421\n",
      "Region 405 Centroid [125, 252] Area 12\n",
      "Region 406 Centroid [200, 253] Area 64\n",
      "Region 151 Centroid [12, 108] Area 654\n",
      "Region 299 Centroid [202, 205] Area 160\n",
      "Region 283 Centroid [15, 197] Area 274\n",
      "Region 30 Centroid [57, 28] Area 506\n",
      "Region 31 Centroid [215, 26] Area 452\n",
      "Region 163 Centroid [129, 126] Area 588\n",
      "Region 326 Centroid [94, 222] Area 275\n",
      "Region 167 Centroid [83, 129] Area 417\n",
      "Region 169 Centroid [197, 130] Area 568\n",
      "Region 170 Centroid [251, 127] Area 87\n",
      "Region 135 Centroid [73, 98] Area 412\n",
      "Region 45 Centroid [122, 37] Area 533\n",
      "Region 46 Centroid [86, 33] Area 245\n",
      "Region 304 Centroid [70, 214] Area 262\n",
      "Region 305 Centroid [166, 213] Area 235\n",
      "Region 314 Centroid [127, 223] Area 589\n",
      "Region 316 Centroid [27, 218] Area 257\n",
      "Region 62 Centroid [26, 44] Area 220\n",
      "Region 193 Centroid [163, 136] Area 390\n",
      "Region 69 Centroid [240, 46] Area 208\n",
      "Region 198 Centroid [54, 138] Area 442\n",
      "Region 60 Centroid [171, 44] Area 368\n",
      "Region 79 Centroid [217, 62] Area 527\n",
      "Region 81 Centroid [4, 63] Area 182\n",
      "Region 82 Centroid [83, 63] Area 397\n",
      "Region 211 Centroid [21, 137] Area 70\n",
      "Region 340 Centroid [227, 234] Area 552\n",
      "Region 342 Centroid [184, 232] Area 370\n",
      "Region 89 Centroid [122, 62] Area 184\n",
      "Region 346 Centroid [47, 233] Area 221\n",
      "Region 95 Centroid [41, 73] Area 631\n",
      "Region 97 Centroid [146, 66] Area 232\n",
      "Region 226 Centroid [9, 154] Area 433\n",
      "Region 114 Centroid [251, 73] Area 47\n",
      "Region 228 Centroid [132, 164] Area 622\n",
      "Region 357 Centroid [251, 234] Area 50\n",
      "Region 209 Centroid [233, 137] Area 269\n",
      "Region 233 Centroid [99, 174] Area 668\n",
      "Region 366 Centroid [153, 245] Area 470\n",
      "Region 239 Centroid [229, 180] Area 839\n",
      "Region 240 Centroid [33, 173] Area 484\n",
      "Region 241 Centroid [72, 167] Area 152\n",
      "Region 370 Centroid [72, 245] Area 349\n",
      "Region 374 Centroid [13, 246] Area 471\n",
      "Region 121 Centroid [162, 89] Area 885\n",
      "Region 136 Centroid [213, 102] Area 609\n",
      "61\n"
     ]
    }
   ],
   "source": [
    "\n",
    "regions=dict()\n",
    "for i in range(w):\n",
    "        for j in range(h):\n",
    "            if (R[i,j]!=0):\n",
    "                if  R[i,j] in regions:\n",
    "                    regions[R[i,j]].append([i,j])\n",
    "                else:\n",
    "                    regions[R[i,j]]=[[i,j]]\n",
    "\n",
    "regions\n",
    "\n",
    "\n",
    "i=0\n",
    "for k,v in regions.iteritems():\n",
    "    if(len(v)>15):\n",
    "        print k, \"area\", len(v)\n",
    "        i=i+1\n",
    "\n",
    "\n",
    "centroid=[]\n",
    "stats=[]\n",
    "region_statistics=dict()\n",
    "for k,v in regions.iteritems():\n",
    "    cent=[]\n",
    "    xc=yc=0\n",
    "    x_cord=[]\n",
    "    y_cord=[]\n",
    "    l=len(v)\n",
    "    x_cord=[v[i][0] for i in range(l)]\n",
    "    y_cord =[v[j][1] for j in range(l)]\n",
    "    xc=int((sum(x_cord))/l)\n",
    "    yc=int((sum(y_cord))/l)\n",
    "    cent=[xc,yc]\n",
    "    centroid.append(cent)\n",
    "    area=l\n",
    "    stats.append([area,cent])\n",
    "    region_statistics[k]=[area,cent]\n",
    "    print \"Region\",k,\"Centroid\",[xc,yc],\"Area\",len(v)\n",
    "   # if(k==128):\n",
    "     #   print v[1][1]\n",
    "\n",
    "print len(stats)\n"
   ]
  },
  {
   "cell_type": "code",
   "execution_count": 18,
   "metadata": {},
   "outputs": [
    {
     "name": "stdout",
     "output_type": "stream",
     "text": [
      "Region 1 Area 638 Centroid [181, 179]\n",
      "Region 2 Area 19 Centroid [26, 0]\n",
      "Region 3 Area 497 Centroid [97, 7]\n",
      "Region 4 Area 261 Centroid [139, 7]\n",
      "Region 5 Area 201 Centroid [225, 3]\n",
      "Region 6 Area 74 Centroid [251, 178]\n",
      "Region 7 Area 87 Centroid [44, 7]\n",
      "Region 8 Area 174 Centroid [105, 250]\n",
      "Region 9 Area 403 Centroid [168, 16]\n",
      "Region 10 Area 355 Centroid [111, 102]\n",
      "Region 11 Area 161 Centroid [156, 188]\n",
      "Region 12 Area 387 Centroid [59, 194]\n",
      "Region 13 Area 421 Centroid [13, 20]\n",
      "Region 14 Area 64 Centroid [200, 253]\n",
      "Region 15 Area 654 Centroid [12, 108]\n",
      "Region 16 Area 274 Centroid [15, 197]\n",
      "Region 17 Area 506 Centroid [57, 28]\n",
      "Region 18 Area 452 Centroid [215, 26]\n",
      "Region 19 Area 588 Centroid [129, 126]\n",
      "Region 20 Area 442 Centroid [54, 138]\n",
      "Region 21 Area 417 Centroid [83, 129]\n",
      "Region 22 Area 568 Centroid [197, 130]\n",
      "Region 23 Area 87 Centroid [251, 127]\n",
      "Region 24 Area 160 Centroid [202, 205]\n",
      "Region 25 Area 533 Centroid [122, 37]\n",
      "Region 26 Area 245 Centroid [86, 33]\n",
      "Region 27 Area 262 Centroid [70, 214]\n",
      "Region 28 Area 235 Centroid [166, 213]\n",
      "Region 29 Area 589 Centroid [127, 223]\n",
      "Region 30 Area 257 Centroid [27, 218]\n",
      "Region 31 Area 220 Centroid [26, 44]\n",
      "Region 32 Area 390 Centroid [163, 136]\n",
      "Region 33 Area 208 Centroid [240, 46]\n",
      "Region 34 Area 275 Centroid [94, 222]\n",
      "Region 35 Area 527 Centroid [217, 62]\n",
      "Region 36 Area 182 Centroid [4, 63]\n",
      "Region 37 Area 397 Centroid [83, 63]\n",
      "Region 38 Area 70 Centroid [21, 137]\n",
      "Region 39 Area 552 Centroid [227, 234]\n",
      "Region 40 Area 370 Centroid [184, 232]\n",
      "Region 41 Area 184 Centroid [122, 62]\n",
      "Region 42 Area 221 Centroid [47, 233]\n",
      "Region 43 Area 412 Centroid [73, 98]\n",
      "Region 44 Area 631 Centroid [41, 73]\n",
      "Region 45 Area 232 Centroid [146, 66]\n",
      "Region 46 Area 433 Centroid [9, 154]\n",
      "Region 47 Area 622 Centroid [132, 164]\n",
      "Region 48 Area 50 Centroid [251, 234]\n",
      "Region 49 Area 269 Centroid [233, 137]\n",
      "Region 50 Area 368 Centroid [171, 44]\n",
      "Region 51 Area 349 Centroid [72, 245]\n",
      "Region 52 Area 470 Centroid [153, 245]\n",
      "Region 53 Area 839 Centroid [229, 180]\n",
      "Region 54 Area 484 Centroid [33, 173]\n",
      "Region 55 Area 152 Centroid [72, 167]\n",
      "Region 56 Area 47 Centroid [251, 73]\n",
      "Region 57 Area 471 Centroid [13, 246]\n",
      "Region 58 Area 668 Centroid [99, 174]\n",
      "Region 59 Area 885 Centroid [162, 89]\n",
      "Region 60 Area 609 Centroid [213, 102]\n"
     ]
    }
   ],
   "source": [
    "statistic_area=dict()\n",
    "i=0\n",
    "for k,v in region_statistics.iteritems():\n",
    "    if(v[0]>15):\n",
    "        statistic_area[i]=v\n",
    "        i=i+1\n",
    "        print 'Region', i, 'Area', v[0], 'Centroid', v[1]\n",
    "    "
   ]
  },
  {
   "cell_type": "code",
   "execution_count": 5,
   "metadata": {},
   "outputs": [
    {
     "data": {
      "text/plain": [
       "61"
      ]
     },
     "execution_count": 5,
     "metadata": {},
     "output_type": "execute_result"
    }
   ],
   "source": [
    "len(regions)"
   ]
  },
  {
   "cell_type": "code",
   "execution_count": 6,
   "metadata": {},
   "outputs": [
    {
     "data": {
      "text/plain": [
       "181"
      ]
     },
     "execution_count": 6,
     "metadata": {},
     "output_type": "execute_result"
    }
   ],
   "source": [
    "stats[0][1][0]"
   ]
  },
  {
   "cell_type": "code",
   "execution_count": 7,
   "metadata": {
    "collapsed": true
   },
   "outputs": [],
   "source": [
    "from PIL import Image\n",
    "im = Image.fromarray(img)\n",
    "im.show()"
   ]
  },
  {
   "cell_type": "code",
   "execution_count": 8,
   "metadata": {},
   "outputs": [
    {
     "data": {
      "text/plain": [
       "-1"
      ]
     },
     "execution_count": 8,
     "metadata": {},
     "output_type": "execute_result"
    }
   ],
   "source": [
    "cv2.namedWindow(\"sample\")\n",
    "cv2.imshow(\"sample\",img)\n",
    "cv2.waitKey(1)"
   ]
  },
  {
   "cell_type": "code",
   "execution_count": 9,
   "metadata": {},
   "outputs": [
    {
     "data": {
      "text/plain": [
       "61"
      ]
     },
     "execution_count": 9,
     "metadata": {},
     "output_type": "execute_result"
    }
   ],
   "source": [
    "len(centroid)"
   ]
  },
  {
   "cell_type": "code",
   "execution_count": 22,
   "metadata": {},
   "outputs": [
    {
     "ename": "KeyError",
     "evalue": "0",
     "output_type": "error",
     "traceback": [
      "\u001b[0;31m---------------------------------------------------------------------------\u001b[0m",
      "\u001b[0;31mKeyError\u001b[0m                                  Traceback (most recent call last)",
      "\u001b[0;32m<ipython-input-22-8d78bf2c7484>\u001b[0m in \u001b[0;36m<module>\u001b[0;34m()\u001b[0m\n\u001b[0;32m----> 1\u001b[0;31m \u001b[0mregion_statistics\u001b[0m\u001b[0;34m[\u001b[0m\u001b[0;36m0\u001b[0m\u001b[0;34m]\u001b[0m\u001b[0;34m\u001b[0m\u001b[0m\n\u001b[0m",
      "\u001b[0;31mKeyError\u001b[0m: 0"
     ]
    }
   ],
   "source": [
    "region_statistics[0]"
   ]
  },
  {
   "cell_type": "code",
   "execution_count": 32,
   "metadata": {},
   "outputs": [],
   "source": [
    "l1=[]\n",
    "l2=[]\n",
    "z=[]\n",
    "for k,v in region_statistics.iteritems():\n",
    "    l1.append(v[1][0])\n",
    "    l2.append(v[1][1])\n",
    "    z.append(v[0])"
   ]
  },
  {
   "cell_type": "code",
   "execution_count": 34,
   "metadata": {},
   "outputs": [
    {
     "name": "stdout",
     "output_type": "stream",
     "text": [
      "61\n"
     ]
    }
   ],
   "source": [
    "print len(z)"
   ]
  },
  {
   "cell_type": "code",
   "execution_count": 19,
   "metadata": {},
   "outputs": [
    {
     "ename": "IndentationError",
     "evalue": "unexpected indent (<ipython-input-19-29df58c79d5c>, line 4)",
     "output_type": "error",
     "traceback": [
      "\u001b[0;36m  File \u001b[0;32m\"<ipython-input-19-29df58c79d5c>\"\u001b[0;36m, line \u001b[0;32m4\u001b[0m\n\u001b[0;31m    for i in range(w):\u001b[0m\n\u001b[0m    ^\u001b[0m\n\u001b[0;31mIndentationError\u001b[0m\u001b[0;31m:\u001b[0m unexpected indent\n"
     ]
    }
   ],
   "source": [
    "w,h=image.shape\n",
    "img=np.zeros((w,h),np.uint8)\n",
    "        \n",
    "for i in range(w):\n",
    "    for j in range(h):\n",
    "        if (image[i,j]==0):\n",
    "            img[i,j]=255\n",
    "        elif(image[i,j]==255):\n",
    "            img[i,j]=0\n",
    "            \n",
    "for i in range(len(stats)):\n",
    "    x=int(stats[i][1][0])\n",
    "    y=int(stats[i][1][1])\n",
    "    area=int(stats[i][0])\n",
    "    line='*'+str(area)+str(i)\n",
    "    cv2.putText(img, line , (int(y), int(x)), cv2.FONT_HERSHEY_SIMPLEX, 0.25, 60)\n"
   ]
  },
  {
   "cell_type": "code",
   "execution_count": 10,
   "metadata": {
    "collapsed": true
   },
   "outputs": [],
   "source": [
    "for i in range(len(stats)):\n",
    "    x=int(stats[i][1][0])\n",
    "    y=int(stats[i][1][1])\n",
    "    area=int(stats[i][0])\n",
    "    line='*'+str(area)\n",
    "    #cv2.putText(img, line , (int(y), int(x)), cv2.FONT_HERSHEY_SIMPLEX, 0.25, 60)\n",
    "    cv2.putText(img, line , (int(y), int(x)), cv2.FONT_HERSHEY_SIMPLEX, 0.25,(100,100,100),60)\n",
    "    \n",
    "    \n",
    "    "
   ]
  },
  {
   "cell_type": "code",
   "execution_count": 11,
   "metadata": {},
   "outputs": [
    {
     "ename": "TypeError",
     "evalue": "unhashable type: 'list'",
     "output_type": "error",
     "traceback": [
      "\u001b[0;31m---------------------------------------------------------------------------\u001b[0m",
      "\u001b[0;31mTypeError\u001b[0m                                 Traceback (most recent call last)",
      "\u001b[0;32m<ipython-input-11-664bbbe19f16>\u001b[0m in \u001b[0;36m<module>\u001b[0;34m()\u001b[0m\n\u001b[1;32m      1\u001b[0m \u001b[0;32mfor\u001b[0m \u001b[0mk\u001b[0m \u001b[0;32min\u001b[0m \u001b[0mregions\u001b[0m\u001b[0;34m.\u001b[0m\u001b[0miteritems\u001b[0m\u001b[0;34m(\u001b[0m\u001b[0;34m)\u001b[0m\u001b[0;34m:\u001b[0m\u001b[0;34m\u001b[0m\u001b[0m\n\u001b[0;32m----> 2\u001b[0;31m     \u001b[0mv\u001b[0m\u001b[0;34m=\u001b[0m\u001b[0mregions\u001b[0m\u001b[0;34m[\u001b[0m\u001b[0mk\u001b[0m\u001b[0;34m]\u001b[0m\u001b[0;34m\u001b[0m\u001b[0m\n\u001b[0m\u001b[1;32m      3\u001b[0m \u001b[0;34m\u001b[0m\u001b[0m\n\u001b[1;32m      4\u001b[0m     \u001b[0marea\u001b[0m\u001b[0;34m=\u001b[0m\u001b[0mlen\u001b[0m\u001b[0;34m(\u001b[0m\u001b[0mv\u001b[0m\u001b[0;34m)\u001b[0m\u001b[0;34m\u001b[0m\u001b[0m\n\u001b[1;32m      5\u001b[0m     \u001b[0;31m#x=int(centroid[i][0])\u001b[0m\u001b[0;34m\u001b[0m\u001b[0;34m\u001b[0m\u001b[0m\n",
      "\u001b[0;31mTypeError\u001b[0m: unhashable type: 'list'"
     ]
    }
   ],
   "source": [
    "for k in regions.iteritems():\n",
    "    v=regions[k]\n",
    "\n",
    "    area=len(v)\n",
    "    #x=int(centroid[i][0])\n",
    "    #y=int(centroid[i][1])\n",
    "    #line='x'\n",
    "    #font = cv2.FONT_HERSHEY_SIMPLEX\n",
    "    #cv2.putText(img,line,(x,y), font, 4,(32,32,32),1,2)\n",
    "    #cv2.putText(R1, line, (int(x), int(y)), cv2.FONT_HERSHEY_SIMPLEX, 0.25, 100)\n",
    "    #cv2.putText(img, line, (x, y ), cv2.FONT_HERSHEY_SIMPLEX, 1, 2)\n",
    "                "
   ]
  },
  {
   "cell_type": "code",
   "execution_count": null,
   "metadata": {
    "collapsed": true
   },
   "outputs": [],
   "source": []
  },
  {
   "cell_type": "code",
   "execution_count": null,
   "metadata": {
    "collapsed": true
   },
   "outputs": [],
   "source": []
  },
  {
   "cell_type": "code",
   "execution_count": null,
   "metadata": {
    "collapsed": true
   },
   "outputs": [],
   "source": []
  },
  {
   "cell_type": "code",
   "execution_count": null,
   "metadata": {
    "collapsed": true
   },
   "outputs": [],
   "source": []
  },
  {
   "cell_type": "code",
   "execution_count": null,
   "metadata": {
    "collapsed": true
   },
   "outputs": [],
   "source": []
  },
  {
   "cell_type": "code",
   "execution_count": null,
   "metadata": {
    "collapsed": true
   },
   "outputs": [],
   "source": []
  },
  {
   "cell_type": "code",
   "execution_count": null,
   "metadata": {
    "collapsed": true
   },
   "outputs": [],
   "source": [
    "from PIL import Image\n",
    "im = Image.fromarray(R1)\n",
    "im.show()"
   ]
  },
  {
   "cell_type": "code",
   "execution_count": null,
   "metadata": {
    "collapsed": true
   },
   "outputs": [],
   "source": [
    "for i in range(l):\n",
    "    area=stats[i][0]\n",
    "    x=int(centroid[i][0])\n",
    "    y=int(centroid[i][1])\n",
    "    line='x.area'\n",
    "    #font = cv2.FONT_HERSHEY_SIMPLEX\n",
    "    #cv2.putText(img,line,(x,y), font, 4,(32,32,32),1,2)\n",
    "    cv2.putText(R1, line, (int(x), int(y)), cv2.FONT_HERSHEY_SIMPLEX, 0.25, 100)\n",
    "    #cv2.putText(img, line, (x, y ), cv2.FONT_HERSHEY_SIMPLEX, 1, 2)\n",
    "                \n",
    "                \n",
    "                "
   ]
  }
 ],
 "metadata": {
  "kernelspec": {
   "display_name": "Python 2",
   "language": "python",
   "name": "python2"
  },
  "language_info": {
   "codemirror_mode": {
    "name": "ipython",
    "version": 2
   },
   "file_extension": ".py",
   "mimetype": "text/x-python",
   "name": "python",
   "nbconvert_exporter": "python",
   "pygments_lexer": "ipython2",
   "version": "2.7.13"
  }
 },
 "nbformat": 4,
 "nbformat_minor": 2
}
