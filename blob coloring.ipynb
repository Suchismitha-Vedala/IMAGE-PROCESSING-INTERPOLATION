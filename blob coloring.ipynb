{
 "cells": [
  {
   "cell_type": "code",
   "execution_count": 1,
   "metadata": {},
   "outputs": [
    {
     "data": {
      "text/plain": [
       "{'divide': 'warn', 'invalid': 'warn', 'over': 'warn', 'under': 'ignore'}"
      ]
     },
     "execution_count": 1,
     "metadata": {},
     "output_type": "execute_result"
    }
   ],
   "source": [
    "import cv2\n",
    "import numpy as np\n",
    "from matplotlib import pyplot as plt\n",
    "np.seterr(divide='ignore', invalid='ignore')"
   ]
  },
  {
   "cell_type": "code",
   "execution_count": 2,
   "metadata": {
    "collapsed": true
   },
   "outputs": [],
   "source": [
    "new_img = cv2.imread('cells.png',0)"
   ]
  },
  {
   "cell_type": "code",
   "execution_count": 3,
   "metadata": {
    "collapsed": true
   },
   "outputs": [],
   "source": [
    "w,h=new_img.shape"
   ]
  },
  {
   "cell_type": "code",
   "execution_count": 4,
   "metadata": {
    "collapsed": true
   },
   "outputs": [],
   "source": [
    "img=np.zeros((w,h),np.uint8)"
   ]
  },
  {
   "cell_type": "code",
   "execution_count": 5,
   "metadata": {
    "collapsed": true
   },
   "outputs": [],
   "source": [
    "optimal=135\n",
    "for i in range(w):\n",
    "    for j in range(h):\n",
    "        if (new_img[i,j]>=optimal):\n",
    "            img[i,j]=0\n",
    "        else:\n",
    "            img[i,j]=255"
   ]
  },
  {
   "cell_type": "code",
   "execution_count": 6,
   "metadata": {},
   "outputs": [
    {
     "data": {
      "text/plain": [
       "array([[  0,   0,   0, ..., 255, 255, 255],\n",
       "       [  0,   0,   0, ..., 255, 255, 255],\n",
       "       [  0,   0,   0, ..., 255, 255, 255],\n",
       "       ..., \n",
       "       [  0,   0,   0, ...,   0,   0,   0],\n",
       "       [  0,   0,   0, ...,   0,   0,   0],\n",
       "       [  0,   0,   0, ...,   0,   0,   0]], dtype=uint8)"
      ]
     },
     "execution_count": 6,
     "metadata": {},
     "output_type": "execute_result"
    }
   ],
   "source": [
    "img\n"
   ]
  },
  {
   "cell_type": "code",
   "execution_count": null,
   "metadata": {
    "collapsed": true
   },
   "outputs": [],
   "source": [
    "cv2.imshow('image',img)\n",
    "cv2.destroyAllWindows()"
   ]
  },
  {
   "cell_type": "code",
   "execution_count": null,
   "metadata": {},
   "outputs": [],
   "source": [
    "np.unique(img)"
   ]
  },
  {
   "cell_type": "code",
   "execution_count": null,
   "metadata": {
    "collapsed": true
   },
   "outputs": [],
   "source": [
    "w,h=img.shape\n",
    "k=1\n",
    "R=np.zeros((w,h),np.uint32)\n",
    "R1=np.zeros((w,h),np.uint8)\n",
    "for j in range(h):\n",
    "    for i in range(w):\n",
    "        if (img[i,j]==255):\n",
    "            if (i==0 and j>0) :\n",
    "                if (R[i, j-1]==0) :\n",
    "                    R[i, j] = k\n",
    "                    k = k + 1\n",
    "                if (R[i, j - 1] > 0):\n",
    "                    R[i, j] = R[i, j-1]\n",
    "                \n",
    "                \n",
    "            if (j==0 and i>0) :\n",
    "                if (R[i-1,j]>0):\n",
    "                    R[i,j]=R[i-1,j]\n",
    "                if (R[i-1,j]==0):\n",
    "                    R[i, j] = k\n",
    "                    k = k + 1\n",
    "                \n",
    "            if(i-1>=0 and j-1>=0):\n",
    "                if( R[i][j-1]>0 and R[i-1][j]==0):\n",
    "                    R[i,j]=R[i,j-1]\n",
    "                if( R[i][j-1]==0 and R[i-1][j]>0):\n",
    "                    R[i,j]=R[i-1,j]\n",
    "                if( R[i][j-1]==0 and R[i-1][j]==0):\n",
    "                    R[i,j]=k\n",
    "                    k=k+1\n",
    "                if( R[i][j-1]>0 and R[i-1][j]>0):\n",
    "                    R[i,j]=R[i,j-1]\n",
    "                    R[i-1,j]=R[i,j-1]\n",
    "                    p=2\n",
    "                    q=0\n",
    "                    while(q==0):\n",
    "                        if (R[i-p,j]!=0):\n",
    "                                R[i-p,j]=R[i-p+1,j]\n",
    "                                p=p+1\n",
    "                        \n",
    "                        else :\n",
    "                                q=1\n",
    "               "
   ]
  },
  {
   "cell_type": "code",
   "execution_count": null,
   "metadata": {},
   "outputs": [],
   "source": [
    "regions=dict()\n",
    "for i in range(w):\n",
    "        for j in range(h):\n",
    "            if (R[i,j]!=0):\n",
    "                if  R[i,j] in regions:\n",
    "                    regions[R[i,j]].append([i,j])\n",
    "                else:\n",
    "                    regions[R[i,j]]=[[i,j]]\n",
    "\n",
    "regions"
   ]
  },
  {
   "cell_type": "code",
   "execution_count": null,
   "metadata": {},
   "outputs": [],
   "source": [
    "i=0\n",
    "for k,v in regions.iteritems():\n",
    "    if(len(v)>15):\n",
    "        print k, \"area\", len(v)\n",
    "        i=i+1\n",
    "\n",
    "print i"
   ]
  },
  {
   "cell_type": "markdown",
   "metadata": {},
   "source": [
    "for a in regions.keys():\n",
    "    i=0\n",
    "    for values in regions[a]:\n",
    "        if(i==0):\n",
    "            x1=values[0]\n",
    "            x2=values[0]\n",
    "            y1=values[1]\n",
    "            y2=values[1]\n",
    "            i=1\n",
    "        else:\n",
    "            if(x1>values[0]):\n",
    "                x1=values[0]\n",
    "            elif(x2<values[0]):\n",
    "                x2=values[0]\n",
    "            if (y1 > values[1]):\n",
    "                y1 = values[1]\n",
    "            elif (y2 < values[1]):\n",
    "                y2 = values[1]\n"
   ]
  },
  {
   "cell_type": "code",
   "execution_count": null,
   "metadata": {},
   "outputs": [],
   "source": [
    "centroid=[]\n",
    "stats=[]\n",
    "region_statistics=dict()\n",
    "for k,v in regions.iteritems():\n",
    "    l=len(v)\n",
    "    x_cord=[v[i][0] for i in range(len(v))]\n",
    "    y_cord =[v[i][1] for i in range(len(v))]\n",
    "    xc=(sum(x_cord))/l\n",
    "    yc=(sum(y_cord))/l\n",
    "    cent=[xc,yc]\n",
    "    centroid.append(cent)\n",
    "    area=l\n",
    "    stats.append([area,cent])\n",
    "    region_statistics[k]=[area,cent]\n",
    "    #print \"Region\",k,\"Centroid\",[xc,yc],\"Area\",len(v)\n",
    "   # if(k==128):\n",
    "     #   print v[1][1]\n",
    "print region_statistics[128]"
   ]
  },
  {
   "cell_type": "code",
   "execution_count": null,
   "metadata": {},
   "outputs": [],
   "source": [
    "stats[0][0]"
   ]
  },
  {
   "cell_type": "code",
   "execution_count": null,
   "metadata": {
    "collapsed": true
   },
   "outputs": [],
   "source": [
    "a=10"
   ]
  },
  {
   "cell_type": "code",
   "execution_count": null,
   "metadata": {},
   "outputs": [],
   "source": [
    "line='*.a'"
   ]
  },
  {
   "cell_type": "code",
   "execution_count": null,
   "metadata": {},
   "outputs": [],
   "source": [
    "line"
   ]
  },
  {
   "cell_type": "code",
   "execution_count": null,
   "metadata": {},
   "outputs": [],
   "source": [
    "for i in range(len(stats)):\n",
    "    x=stats[i][1"
   ]
  },
  {
   "cell_type": "code",
   "execution_count": null,
   "metadata": {},
   "outputs": [],
   "source": [
    "for i in range(len(stats)):\n",
    "    area=stats[i][0]\n",
    "    x=stats[i][1][0]\n",
    "    y=stats[i][1][1]\n",
    "    line='*.area'\n",
    "    cv2.putText(img, line, (x, y ), cv2.FONT_HERSHEY_SIMPLEX, 1, 2)"
   ]
  },
  {
   "cell_type": "code",
   "execution_count": null,
   "metadata": {},
   "outputs": [],
   "source": [
    "img.shape"
   ]
  },
  {
   "cell_type": "code",
   "execution_count": null,
   "metadata": {
    "collapsed": true
   },
   "outputs": [],
   "source": [
    "for a,v in regions.iteritems():\n",
    "    i=0\n",
    "    x_cord=[v[0]]"
   ]
  },
  {
   "cell_type": "code",
   "execution_count": null,
   "metadata": {
    "collapsed": true
   },
   "outputs": [],
   "source": [
    " for a in dictRegion.keys():\n",
    "\n",
    "        flag=0\n",
    "        for eachCoordinate in dictRegion[a]:\n",
    "            if(flag==0):\n",
    "                fx=eachCoordinate[0]\n",
    "                fx2=eachCoordinate[0]\n",
    "                fy=eachCoordinate[1]\n",
    "                fy2=eachCoordinate[1]\n",
    "                flag=1\n",
    "            else:\n",
    "                if(fx>eachCoordinate[0]):\n",
    "                    fx=eachCoordinate[0]\n",
    "                elif(fx2<eachCoordinate[0]):\n",
    "                    fx2=eachCoordinate[0]\n",
    "                if (fy > eachCoordinate[1]):\n",
    "                    fy = eachCoordinate[1]\n",
    "                elif (fy2 < eachCoordinate[1]):\n",
    "                    fy2 = eachCoordinate[1]\n",
    "\n",
    "        dif1 = fx2 - fx\n",
    "        avg1 = dif1 / 2\n",
    "        iCnt = fx + avg1\n",
    "        dif2 = fy2 - fy\n",
    "        avg2 = dif2 / 2\n",
    "        jCnt = fy + avg2\n",
    "        count=count+1"
   ]
  },
  {
   "cell_type": "code",
   "execution_count": null,
   "metadata": {
    "collapsed": true
   },
   "outputs": [],
   "source": []
  },
  {
   "cell_type": "code",
   "execution_count": null,
   "metadata": {
    "collapsed": true
   },
   "outputs": [],
   "source": []
  },
  {
   "cell_type": "code",
   "execution_count": null,
   "metadata": {
    "collapsed": true
   },
   "outputs": [],
   "source": []
  },
  {
   "cell_type": "code",
   "execution_count": null,
   "metadata": {
    "collapsed": true
   },
   "outputs": [],
   "source": [
    "b,c = np.unique(R,return_counts=True)"
   ]
  },
  {
   "cell_type": "code",
   "execution_count": null,
   "metadata": {
    "collapsed": true
   },
   "outputs": [],
   "source": [
    "len(b)"
   ]
  },
  {
   "cell_type": "code",
   "execution_count": null,
   "metadata": {
    "collapsed": true
   },
   "outputs": [],
   "source": [
    "\n",
    "d={}\n",
    "for i in range(w):\n",
    "    for j in range(h):\n",
    "        if R[i,j]!=0:\n",
    "            if  R[i,j] in d:\n",
    "                d[R[i,j]].append([i,j])\n",
    "            else:\n",
    "                d[R[i,j]]=[[i,j]]\n",
    "regionStat={}\n",
    "k = 1\n",
    "print(d[3])\n",
    "'''\n",
    "\n",
    "dictRegion={}\n",
    "for i in range(w):\n",
    "    for j in range(h):\n",
    "        if r[i,j]!=0:\n",
    "            if  r[i,j] in dictRegion:\n",
    "                dictRegion[r[i,j]].append([i,j])\n",
    "            else:\n",
    "                dictRegion[r[i,j]]=[[i,j]]\n",
    "regionStat={}\n",
    "    count = 1\n",
    "    print(dictRegion[3])\n",
    "    for a in dictRegion.keys():\n",
    "\n",
    "        flag=0\n",
    "        for eachCoordinate in dictRegion[a]:\n",
    "            if(flag==0):\n",
    "                fx=eachCoordinate[0]\n",
    "                fx2=eachCoordinate[0]\n",
    "                fy=eachCoordinate[1]\n",
    "                fy2=eachCoordinate[1]\n",
    "                flag=1\n",
    "            else:\n",
    "                if(fx>eachCoordinate[0]):\n",
    "                    fx=eachCoordinate[0]\n",
    "                elif(fx2<eachCoordinate[0]):\n",
    "                    fx2=eachCoordinate[0]\n",
    "                if (fy > eachCoordinate[1]):\n",
    "                    fy = eachCoordinate[1]\n",
    "                elif (fy2 < eachCoordinate[1]):\n",
    "                    fy2 = eachCoordinate[1]\n",
    "\n",
    "        dif1 = fx2 - fx\n",
    "        avg1 = dif1 / 2\n",
    "        iCnt = fx + avg1\n",
    "        dif2 = fy2 - fy\n",
    "        avg2 = dif2 / 2\n",
    "        jCnt = fy + avg2\n",
    "        count=count+1\n",
    "        regionStat[count]=[len(dictRegion[a]),[iCnt,jCnt]]\n",
    "\n",
    "        for i in range(ImgRow):\n",
    "            for j in range(ImgColumn):\n",
    "                if s[r[i, j]] > 15:\n",
    "                    r1[i, j] = r[i, j]\n",
    "                    if r1[i, j] == 0:\n",
    "                        r1[i, j] = 0\n",
    "                    else:\n",
    "                        r1[i, j] = 255\n",
    "'''"
   ]
  },
  {
   "cell_type": "code",
   "execution_count": null,
   "metadata": {
    "collapsed": true
   },
   "outputs": [],
   "source": [
    "len(d)"
   ]
  },
  {
   "cell_type": "code",
   "execution_count": null,
   "metadata": {
    "collapsed": true
   },
   "outputs": [],
   "source": [
    "ImgRow, ImgColumn = image.shape\n",
    "    count=1\n",
    "    r=numpy.zeros((ImgRow, ImgColumn), numpy.uint32)\n",
    "    r1 = numpy.zeros((ImgRow, ImgColumn), numpy.uint8)\n",
    "\n",
    "\n",
    "    for j in range(ImgColumn):\n",
    "        for i in range(ImgRow):\n",
    "            if (image[i,j]==255):\n",
    "                if (i==0 and j>0) :\n",
    "                    if (R[i, j-1]==0) :\n",
    "                        R[i, j] = k\n",
    "                        k = k + 1\n",
    "                    if (R[i, j - 1] > 0):\n",
    "                            R[i, j] = R[i, j-1]\n",
    "                \n",
    "                \n",
    "                if (j==0 and i>0) :\n",
    "                    if (R[i-1,j]>0):\n",
    "                        R[i,j]=R[i-1,j]\n",
    "                    if (R[i-1,j]==0):\n",
    "                        R[i, j] = k\n",
    "                        k = k + 1\n",
    "                \n",
    "                \n",
    "                \n",
    "                if (i-1>=0 and j-1>=0):\n",
    "                    if (r[i, j - 1] > 0 and r[i - 1, j] == 0):\n",
    "                        r[i, j] = r[i, j-1]\n",
    "                    if (r[i, j-1]==0 and r[i-1,j]>0):\n",
    "                        r[i,j]=r[i-1,j]\n",
    "                    if (r[i, j-1]==0 and r[i-1,j]==0):\n",
    "                        r[i, j] = count\n",
    "                        count = count + 1\n",
    "\n",
    "                    if (r[i, j - 1] > 0 and r[i - 1, j] > 0):\n",
    "                        r[i, j] = r[i , j-1]\n",
    "                        r[i-1,j]=r[i,j-1]\n",
    "                        dec=2\n",
    "                        flag=0\n",
    "                        while (flag==0):\n",
    "                            if (r[i-dec,j]!=0):\n",
    "                                r[i-dec,j]=r[i-dec+1,j]\n",
    "                                dec=dec+1\n",
    "                            else :\n",
    "                                flag=1\n",
    "                \n",
    "\n",
    "\n"
   ]
  },
  {
   "cell_type": "code",
   "execution_count": null,
   "metadata": {
    "collapsed": true
   },
   "outputs": [],
   "source": []
  },
  {
   "cell_type": "code",
   "execution_count": null,
   "metadata": {
    "collapsed": true
   },
   "outputs": [],
   "source": []
  },
  {
   "cell_type": "code",
   "execution_count": null,
   "metadata": {
    "collapsed": true
   },
   "outputs": [],
   "source": []
  },
  {
   "cell_type": "code",
   "execution_count": null,
   "metadata": {
    "collapsed": true
   },
   "outputs": [],
   "source": []
  },
  {
   "cell_type": "code",
   "execution_count": null,
   "metadata": {
    "collapsed": true
   },
   "outputs": [],
   "source": []
  },
  {
   "cell_type": "code",
   "execution_count": null,
   "metadata": {
    "collapsed": true
   },
   "outputs": [],
   "source": []
  },
  {
   "cell_type": "code",
   "execution_count": null,
   "metadata": {
    "collapsed": true
   },
   "outputs": [],
   "source": []
  },
  {
   "cell_type": "code",
   "execution_count": null,
   "metadata": {
    "collapsed": true
   },
   "outputs": [],
   "source": []
  },
  {
   "cell_type": "code",
   "execution_count": null,
   "metadata": {
    "collapsed": true
   },
   "outputs": [],
   "source": []
  },
  {
   "cell_type": "code",
   "execution_count": null,
   "metadata": {
    "collapsed": true
   },
   "outputs": [],
   "source": []
  },
  {
   "cell_type": "code",
   "execution_count": null,
   "metadata": {
    "collapsed": true
   },
   "outputs": [],
   "source": []
  },
  {
   "cell_type": "code",
   "execution_count": null,
   "metadata": {
    "collapsed": true
   },
   "outputs": [],
   "source": [
    "plt.imshow(img)\n",
    "plt.show()"
   ]
  },
  {
   "cell_type": "code",
   "execution_count": null,
   "metadata": {
    "collapsed": true
   },
   "outputs": [],
   "source": [
    "ret,thresh = cv2.threshold(img,0,255,cv2.THRESH_BINARY+cv2.THRESH_OTSU)\n"
   ]
  },
  {
   "cell_type": "code",
   "execution_count": null,
   "metadata": {
    "collapsed": true
   },
   "outputs": [],
   "source": []
  },
  {
   "cell_type": "code",
   "execution_count": null,
   "metadata": {
    "collapsed": true
   },
   "outputs": [],
   "source": [
    "w,h=img.shape"
   ]
  },
  {
   "cell_type": "code",
   "execution_count": null,
   "metadata": {
    "collapsed": true
   },
   "outputs": [],
   "source": [
    "data=np.zeros((w,h),np.uint8)"
   ]
  },
  {
   "cell_type": "code",
   "execution_count": null,
   "metadata": {
    "collapsed": true
   },
   "outputs": [],
   "source": [
    "data"
   ]
  },
  {
   "cell_type": "code",
   "execution_count": null,
   "metadata": {
    "collapsed": true
   },
   "outputs": [],
   "source": [
    "for i in range(w):\n",
    "    for j in range(h):\n",
    "        if (img[i,j]>=ret):\n",
    "            data[i,j]=255\n",
    "        else:\n",
    "            data[i,j]=0"
   ]
  },
  {
   "cell_type": "code",
   "execution_count": null,
   "metadata": {
    "collapsed": true
   },
   "outputs": [],
   "source": [
    "i"
   ]
  },
  {
   "cell_type": "code",
   "execution_count": null,
   "metadata": {
    "collapsed": true
   },
   "outputs": [],
   "source": [
    "data.shape"
   ]
  },
  {
   "cell_type": "code",
   "execution_count": null,
   "metadata": {
    "collapsed": true
   },
   "outputs": [],
   "source": [
    "I=data"
   ]
  },
  {
   "cell_type": "code",
   "execution_count": null,
   "metadata": {
    "collapsed": true
   },
   "outputs": [],
   "source": [
    "R=np.zeros((w,h),np.uint8)"
   ]
  },
  {
   "cell_type": "code",
   "execution_count": null,
   "metadata": {
    "collapsed": true
   },
   "outputs": [],
   "source": [
    "k=1"
   ]
  },
  {
   "cell_type": "code",
   "execution_count": null,
   "metadata": {
    "collapsed": true
   },
   "outputs": [],
   "source": [
    "\n",
    "for j in range(h):\n",
    "    for i in range(w):\n",
    "        if(img[i,j]==255):\n",
    "            \n",
    "        \n",
    "        \n",
    "        \n",
    "        \n",
    "        \n",
    "        \n",
    "        if (I[i][j]==1 and I[i][j-1]==0):\n",
    "            if (I[i-1][j]==0):\n",
    "                R[i][j]=k\n",
    "                k=k+1\n",
    "            elif (I[i-1][j]==1):\n",
    "                R[i][j]=R[i-1][j]\n",
    "        elif (I[i][j]==1 and I[i][j-1]==1):\n",
    "            if (I[i-1][j]==0):\n",
    "                R[i][j]=R[i][j-1]\n",
    "            elif (I[i-1][j]==1):\n",
    "                R[i][j]=R[i-1][j]\n",
    "        if (R[i][j]==R[i][j]/R[i-1][j]):\n",
    "            R[i][j]=R[i-1][j]\n",
    "            "
   ]
  },
  {
   "cell_type": "code",
   "execution_count": null,
   "metadata": {
    "collapsed": true
   },
   "outputs": [],
   "source": []
  },
  {
   "cell_type": "code",
   "execution_count": null,
   "metadata": {
    "collapsed": true
   },
   "outputs": [],
   "source": [
    "R.shape"
   ]
  },
  {
   "cell_type": "code",
   "execution_count": null,
   "metadata": {
    "collapsed": true
   },
   "outputs": [],
   "source": [
    "b,c=np.unique(R,return_counts=True)\n",
    "print len(b), len(c)"
   ]
  },
  {
   "cell_type": "code",
   "execution_count": null,
   "metadata": {
    "collapsed": true
   },
   "outputs": [],
   "source": [
    "plt.imshow(img)\n",
    "plt.show()"
   ]
  },
  {
   "cell_type": "code",
   "execution_count": null,
   "metadata": {
    "collapsed": true
   },
   "outputs": [],
   "source": [
    "d={}\n",
    "for i in C:\n",
    "    d[i]=np.count_nonzero(C[i] == i)"
   ]
  }
 ],
 "metadata": {
  "kernelspec": {
   "display_name": "Python 2",
   "language": "python",
   "name": "python2"
  },
  "language_info": {
   "codemirror_mode": {
    "name": "ipython",
    "version": 2
   },
   "file_extension": ".py",
   "mimetype": "text/x-python",
   "name": "python",
   "nbconvert_exporter": "python",
   "pygments_lexer": "ipython2",
   "version": "2.7.13"
  }
 },
 "nbformat": 4,
 "nbformat_minor": 2
}
