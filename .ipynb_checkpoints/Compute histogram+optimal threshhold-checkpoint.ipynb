{
 "cells": [
  {
   "cell_type": "code",
   "execution_count": 9,
   "metadata": {},
   "outputs": [
    {
     "data": {
      "text/plain": [
       "{'divide': 'ignore', 'invalid': 'ignore', 'over': 'warn', 'under': 'ignore'}"
      ]
     },
     "execution_count": 9,
     "metadata": {},
     "output_type": "execute_result"
    }
   ],
   "source": [
    "import cv2\n",
    "import numpy as np\n",
    "from matplotlib import pyplot as plt\n",
    "np.seterr(divide='ignore', invalid='ignore')"
   ]
  },
  {
   "cell_type": "code",
   "execution_count": 10,
   "metadata": {
    "collapsed": true
   },
   "outputs": [],
   "source": [
    "img=cv2.imread('cells.png',0)\n"
   ]
  },
  {
   "cell_type": "code",
   "execution_count": 11,
   "metadata": {},
   "outputs": [],
   "source": [
    "w,h=img.shape"
   ]
  },
  {
   "cell_type": "code",
   "execution_count": 5,
   "metadata": {},
   "outputs": [],
   "source": [
    "hist=[0 for i in range(256)]"
   ]
  },
  {
   "cell_type": "code",
   "execution_count": 6,
   "metadata": {},
   "outputs": [
    {
     "data": {
      "text/plain": [
       "[0,\n",
       " 0,\n",
       " 0,\n",
       " 0,\n",
       " 0,\n",
       " 0,\n",
       " 0,\n",
       " 0,\n",
       " 0,\n",
       " 0,\n",
       " 0,\n",
       " 0,\n",
       " 0,\n",
       " 0,\n",
       " 0,\n",
       " 0,\n",
       " 0,\n",
       " 0,\n",
       " 0,\n",
       " 0,\n",
       " 0,\n",
       " 0,\n",
       " 0,\n",
       " 0,\n",
       " 0,\n",
       " 0,\n",
       " 0,\n",
       " 0,\n",
       " 0,\n",
       " 0,\n",
       " 0,\n",
       " 0,\n",
       " 0,\n",
       " 0,\n",
       " 0,\n",
       " 0,\n",
       " 0,\n",
       " 0,\n",
       " 0,\n",
       " 0,\n",
       " 0,\n",
       " 0,\n",
       " 0,\n",
       " 0,\n",
       " 0,\n",
       " 0,\n",
       " 0,\n",
       " 0,\n",
       " 0,\n",
       " 0,\n",
       " 0,\n",
       " 0,\n",
       " 0,\n",
       " 0,\n",
       " 0,\n",
       " 0,\n",
       " 0,\n",
       " 0,\n",
       " 0,\n",
       " 0,\n",
       " 0,\n",
       " 0,\n",
       " 0,\n",
       " 0,\n",
       " 0,\n",
       " 0,\n",
       " 0,\n",
       " 0,\n",
       " 0,\n",
       " 0,\n",
       " 0,\n",
       " 0,\n",
       " 0,\n",
       " 0,\n",
       " 0,\n",
       " 0,\n",
       " 0,\n",
       " 0,\n",
       " 0,\n",
       " 0,\n",
       " 0,\n",
       " 0,\n",
       " 0,\n",
       " 0,\n",
       " 0,\n",
       " 0,\n",
       " 0,\n",
       " 0,\n",
       " 0,\n",
       " 0,\n",
       " 0,\n",
       " 0,\n",
       " 0,\n",
       " 0,\n",
       " 0,\n",
       " 0,\n",
       " 0,\n",
       " 0,\n",
       " 0,\n",
       " 0,\n",
       " 0,\n",
       " 0,\n",
       " 0,\n",
       " 0,\n",
       " 0,\n",
       " 0,\n",
       " 0,\n",
       " 0,\n",
       " 0,\n",
       " 0,\n",
       " 0,\n",
       " 0,\n",
       " 0,\n",
       " 0,\n",
       " 0,\n",
       " 0,\n",
       " 0,\n",
       " 0,\n",
       " 0,\n",
       " 0,\n",
       " 0,\n",
       " 0,\n",
       " 0,\n",
       " 0,\n",
       " 0,\n",
       " 0,\n",
       " 0,\n",
       " 0,\n",
       " 0,\n",
       " 0,\n",
       " 0,\n",
       " 0,\n",
       " 0,\n",
       " 0,\n",
       " 0,\n",
       " 0,\n",
       " 0,\n",
       " 0,\n",
       " 0,\n",
       " 0,\n",
       " 0,\n",
       " 0,\n",
       " 0,\n",
       " 0,\n",
       " 0,\n",
       " 0,\n",
       " 0,\n",
       " 0,\n",
       " 0,\n",
       " 0,\n",
       " 0,\n",
       " 0,\n",
       " 0,\n",
       " 0,\n",
       " 0,\n",
       " 0,\n",
       " 0,\n",
       " 0,\n",
       " 0,\n",
       " 0,\n",
       " 0,\n",
       " 0,\n",
       " 0,\n",
       " 0,\n",
       " 0,\n",
       " 0,\n",
       " 0,\n",
       " 0,\n",
       " 0,\n",
       " 0,\n",
       " 0,\n",
       " 0,\n",
       " 0,\n",
       " 0,\n",
       " 0,\n",
       " 0,\n",
       " 0,\n",
       " 0,\n",
       " 0,\n",
       " 0,\n",
       " 0,\n",
       " 0,\n",
       " 0,\n",
       " 0,\n",
       " 0,\n",
       " 0,\n",
       " 0,\n",
       " 0,\n",
       " 0,\n",
       " 0,\n",
       " 0,\n",
       " 0,\n",
       " 0,\n",
       " 0,\n",
       " 0,\n",
       " 0,\n",
       " 0,\n",
       " 0,\n",
       " 0,\n",
       " 0,\n",
       " 0,\n",
       " 0,\n",
       " 0,\n",
       " 0,\n",
       " 0,\n",
       " 0,\n",
       " 0,\n",
       " 0,\n",
       " 0,\n",
       " 0,\n",
       " 0,\n",
       " 0,\n",
       " 0,\n",
       " 0,\n",
       " 0,\n",
       " 0,\n",
       " 0,\n",
       " 0,\n",
       " 0,\n",
       " 0,\n",
       " 0,\n",
       " 0,\n",
       " 0,\n",
       " 0,\n",
       " 0,\n",
       " 0,\n",
       " 0,\n",
       " 0,\n",
       " 0,\n",
       " 0,\n",
       " 0,\n",
       " 0,\n",
       " 0,\n",
       " 0,\n",
       " 0,\n",
       " 0,\n",
       " 0,\n",
       " 0,\n",
       " 0,\n",
       " 0,\n",
       " 0,\n",
       " 0,\n",
       " 0,\n",
       " 0,\n",
       " 0,\n",
       " 0,\n",
       " 0,\n",
       " 0,\n",
       " 0,\n",
       " 0,\n",
       " 0,\n",
       " 0,\n",
       " 0,\n",
       " 0,\n",
       " 0,\n",
       " 0]"
      ]
     },
     "execution_count": 6,
     "metadata": {},
     "output_type": "execute_result"
    }
   ],
   "source": [
    "hist"
   ]
  },
  {
   "cell_type": "code",
   "execution_count": 12,
   "metadata": {
    "collapsed": true
   },
   "outputs": [],
   "source": [
    "for i in range(w):\n",
    "    for j in range(h):\n",
    "        hist[img[i,j]]=hist[img[i,j]]+1\n",
    "    "
   ]
  },
  {
   "cell_type": "code",
   "execution_count": 17,
   "metadata": {},
   "outputs": [
    {
     "data": {
      "text/plain": [
       "[0,\n",
       " 0,\n",
       " 0,\n",
       " 0,\n",
       " 0,\n",
       " 0,\n",
       " 0,\n",
       " 491,\n",
       " 106,\n",
       " 118,\n",
       " 87,\n",
       " 112,\n",
       " 98,\n",
       " 91,\n",
       " 67,\n",
       " 98,\n",
       " 76,\n",
       " 94,\n",
       " 91,\n",
       " 138,\n",
       " 111,\n",
       " 111,\n",
       " 133,\n",
       " 143,\n",
       " 155,\n",
       " 157,\n",
       " 182,\n",
       " 226,\n",
       " 211,\n",
       " 161,\n",
       " 205,\n",
       " 194,\n",
       " 193,\n",
       " 191,\n",
       " 217,\n",
       " 258,\n",
       " 226,\n",
       " 225,\n",
       " 250,\n",
       " 243,\n",
       " 262,\n",
       " 245,\n",
       " 267,\n",
       " 330,\n",
       " 217,\n",
       " 268,\n",
       " 246,\n",
       " 253,\n",
       " 269,\n",
       " 241,\n",
       " 251,\n",
       " 336,\n",
       " 245,\n",
       " 227,\n",
       " 255,\n",
       " 241,\n",
       " 253,\n",
       " 267,\n",
       " 250,\n",
       " 322,\n",
       " 205,\n",
       " 236,\n",
       " 227,\n",
       " 211,\n",
       " 196,\n",
       " 223,\n",
       " 177,\n",
       " 248,\n",
       " 164,\n",
       " 196,\n",
       " 192,\n",
       " 213,\n",
       " 168,\n",
       " 202,\n",
       " 164,\n",
       " 232,\n",
       " 159,\n",
       " 163,\n",
       " 160,\n",
       " 172,\n",
       " 142,\n",
       " 144,\n",
       " 145,\n",
       " 221,\n",
       " 161,\n",
       " 142,\n",
       " 162,\n",
       " 142,\n",
       " 149,\n",
       " 170,\n",
       " 144,\n",
       " 202,\n",
       " 134,\n",
       " 144,\n",
       " 158,\n",
       " 154,\n",
       " 135,\n",
       " 154,\n",
       " 144,\n",
       " 184,\n",
       " 129,\n",
       " 147,\n",
       " 146,\n",
       " 135,\n",
       " 141,\n",
       " 117,\n",
       " 144,\n",
       " 179,\n",
       " 122,\n",
       " 135,\n",
       " 126,\n",
       " 135,\n",
       " 123,\n",
       " 126,\n",
       " 123,\n",
       " 150,\n",
       " 118,\n",
       " 114,\n",
       " 128,\n",
       " 129,\n",
       " 121,\n",
       " 116,\n",
       " 120,\n",
       " 172,\n",
       " 127,\n",
       " 129,\n",
       " 144,\n",
       " 135,\n",
       " 136,\n",
       " 148,\n",
       " 148,\n",
       " 180,\n",
       " 136,\n",
       " 116,\n",
       " 134,\n",
       " 127,\n",
       " 109,\n",
       " 132,\n",
       " 144,\n",
       " 165,\n",
       " 129,\n",
       " 122,\n",
       " 133,\n",
       " 138,\n",
       " 132,\n",
       " 133,\n",
       " 153,\n",
       " 175,\n",
       " 149,\n",
       " 139,\n",
       " 144,\n",
       " 152,\n",
       " 156,\n",
       " 169,\n",
       " 144,\n",
       " 209,\n",
       " 171,\n",
       " 172,\n",
       " 144,\n",
       " 156,\n",
       " 173,\n",
       " 171,\n",
       " 157,\n",
       " 203,\n",
       " 164,\n",
       " 169,\n",
       " 175,\n",
       " 158,\n",
       " 177,\n",
       " 184,\n",
       " 163,\n",
       " 247,\n",
       " 220,\n",
       " 205,\n",
       " 211,\n",
       " 203,\n",
       " 211,\n",
       " 207,\n",
       " 233,\n",
       " 303,\n",
       " 250,\n",
       " 240,\n",
       " 234,\n",
       " 273,\n",
       " 272,\n",
       " 286,\n",
       " 276,\n",
       " 405,\n",
       " 304,\n",
       " 336,\n",
       " 414,\n",
       " 379,\n",
       " 428,\n",
       " 554,\n",
       " 554,\n",
       " 877,\n",
       " 703,\n",
       " 815,\n",
       " 941,\n",
       " 1063,\n",
       " 1208,\n",
       " 1278,\n",
       " 1218,\n",
       " 1725,\n",
       " 1412,\n",
       " 1433,\n",
       " 1484,\n",
       " 1539,\n",
       " 1409,\n",
       " 1342,\n",
       " 1249,\n",
       " 1643,\n",
       " 1116,\n",
       " 1057,\n",
       " 888,\n",
       " 740,\n",
       " 694,\n",
       " 581,\n",
       " 510,\n",
       " 531,\n",
       " 313,\n",
       " 292,\n",
       " 268,\n",
       " 224,\n",
       " 213,\n",
       " 155,\n",
       " 175,\n",
       " 161,\n",
       " 99,\n",
       " 69,\n",
       " 68,\n",
       " 56,\n",
       " 49,\n",
       " 26,\n",
       " 25,\n",
       " 28,\n",
       " 12,\n",
       " 10,\n",
       " 4,\n",
       " 7,\n",
       " 3,\n",
       " 3,\n",
       " 0,\n",
       " 0,\n",
       " 0,\n",
       " 0,\n",
       " 0,\n",
       " 0,\n",
       " 0,\n",
       " 0,\n",
       " 0,\n",
       " 0,\n",
       " 0,\n",
       " 0,\n",
       " 0,\n",
       " 0]"
      ]
     },
     "execution_count": 17,
     "metadata": {},
     "output_type": "execute_result"
    }
   ],
   "source": [
    "hist"
   ]
  },
  {
   "cell_type": "code",
   "execution_count": 14,
   "metadata": {
    "scrolled": true
   },
   "outputs": [
    {
     "data": {
      "text/plain": [
       "[<matplotlib.lines.Line2D at 0x10c1d2790>]"
      ]
     },
     "execution_count": 14,
     "metadata": {},
     "output_type": "execute_result"
    }
   ],
   "source": [
    "plt.plot(hist)"
   ]
  },
  {
   "cell_type": "code",
   "execution_count": 15,
   "metadata": {},
   "outputs": [
    {
     "data": {
      "image/png": "[encoded data removed]",
      "text/plain": [
       "<matplotlib.figure.Figure at 0x10c0d2ed0>"
      ]
     },
     "metadata": {},
     "output_type": "display_data"
    }
   ],
   "source": [
    "plt.show()"
   ]
  },
  {
   "cell_type": "code",
   "execution_count": 20,
   "metadata": {
    "collapsed": true
   },
   "outputs": [],
   "source": [
    "t_in=255/2\n",
    "s=0\n",
    "for i in range(t_in):\n",
    "    s=s+(i*hist[i])"
   ]
  },
  {
   "cell_type": "code",
   "execution_count": 22,
   "metadata": {},
   "outputs": [],
   "source": [
    "p=0\n",
    "for j in range(t_in):\n",
    "    p=p+hist[t_in]"
   ]
  },
  {
   "cell_type": "code",
   "execution_count": 23,
   "metadata": {
    "collapsed": true
   },
   "outputs": [],
   "source": [
    "e1=s/p"
   ]
  },
  {
   "cell_type": "code",
   "execution_count": 38,
   "metadata": {
    "collapsed": true
   },
   "outputs": [],
   "source": [
    "E1=[]\n",
    "for i in range(t_in):\n",
    "    E1.append((i*hist[i])/e1)"
   ]
  },
  {
   "cell_type": "code",
   "execution_count": 40,
   "metadata": {
    "collapsed": true
   },
   "outputs": [],
   "source": [
    "E2=[]\n",
    "for i in range(t_in,256):\n",
    "    E2.append((i*hist[i])/e2)"
   ]
  },
  {
   "cell_type": "code",
   "execution_count": 42,
   "metadata": {},
   "outputs": [
    {
     "data": {
      "text/plain": [
       "135.38298846365134"
      ]
     },
     "execution_count": 42,
     "metadata": {},
     "output_type": "execute_result"
    }
   ],
   "source": [
    "k=(np.float(sum(E1)) / max(len(E1), 1)  + np.float(sum(E2)) / max(len(E2), 1))/2\n",
    "k"
   ]
  },
  {
   "cell_type": "code",
   "execution_count": 24,
   "metadata": {
    "collapsed": true
   },
   "outputs": [],
   "source": [
    "s1=0\n",
    "for i in range(t_in,256):\n",
    "    s1=s1+(i*hist[i])"
   ]
  },
  {
   "cell_type": "code",
   "execution_count": 30,
   "metadata": {
    "collapsed": true
   },
   "outputs": [],
   "source": [
    "p1=0\n",
    "for j in range(t_in,256):\n",
    "    p1=p1+hist[t_in]\n"
   ]
  },
  {
   "cell_type": "code",
   "execution_count": 33,
   "metadata": {},
   "outputs": [
    {
     "data": {
      "text/plain": [
       "17415"
      ]
     },
     "execution_count": 33,
     "metadata": {},
     "output_type": "execute_result"
    }
   ],
   "source": [
    "p1"
   ]
  },
  {
   "cell_type": "code",
   "execution_count": 34,
   "metadata": {},
   "outputs": [],
   "source": [
    "e2=s1/p1"
   ]
  },
  {
   "cell_type": "code",
   "execution_count": 35,
   "metadata": {
    "collapsed": true
   },
   "outputs": [],
   "source": [
    "optimal=(e1+e2)/2"
   ]
  },
  {
   "cell_type": "code",
   "execution_count": 37,
   "metadata": {},
   "outputs": [
    {
     "data": {
      "text/plain": [
       "2"
      ]
     },
     "execution_count": 37,
     "metadata": {},
     "output_type": "execute_result"
    }
   ],
   "source": []
  },
  {
   "cell_type": "code",
   "execution_count": 9,
   "metadata": {},
   "outputs": [
    {
     "data": {
      "image/png": "[encoded data removed]",
      "text/plain": [
       "<matplotlib.figure.Figure at 0x110b99350>"
      ]
     },
     "metadata": {},
     "output_type": "display_data"
    }
   ],
   "source": [
    "plt.plot(hist_full)\n",
    "plt.show()"
   ]
  },
  {
   "cell_type": "code",
   "execution_count": 10,
   "metadata": {
    "collapsed": true
   },
   "outputs": [],
   "source": [
    "a,b=np.unique(img,return_counts=True)"
   ]
  },
  {
   "cell_type": "code",
   "execution_count": 16,
   "metadata": {
    "collapsed": true
   },
   "outputs": [],
   "source": [
    "inti_thresh=(255/2)"
   ]
  },
  {
   "cell_type": "code",
   "execution_count": 14,
   "metadata": {},
   "outputs": [
    {
     "data": {
      "text/plain": [
       "array([214, 219, 224, 228, 230, 228, 227, 225, 226, 226, 228, 229, 230,\n",
       "       227, 221, 209, 190, 164, 134, 102,  74,  51,  37,  31,  32,  36,\n",
       "        41,  46,  50,  53,  57,  64,  75,  91, 113, 137, 162, 184, 203,\n",
       "       215, 224, 227, 228, 225, 221, 217, 213, 210, 209, 203, 194, 177,\n",
       "       153, 126, 102,  83,  75,  74,  74,  75,  73,  69,  67,  67,  69,\n",
       "        70,  70,  67,  63,  59,  61,  70,  88, 112, 140, 167, 190, 207,\n",
       "       219, 224, 226, 224, 222, 218, 216, 213, 211, 209, 208, 208, 210,\n",
       "       211, 212, 209, 202, 184, 158, 127,  96,  66,  44,  31,  26,  26,\n",
       "        28,  30,  30,  27,  25,  22,  21,  20,  22,  24,  26,  30,  35,\n",
       "        43,  57,  79, 109, 140, 171, 194, 207, 208, 206, 200, 197, 195,\n",
       "       197, 200, 203, 205, 207, 208, 210, 211, 214, 216, 218, 213, 204,\n",
       "       184, 157, 125,  94,  64,  41,  26,  19,  16,  16,  18,  20,  20,\n",
       "        22,  25,  32,  40,  51,  62,  76,  94, 116, 142, 169, 191, 207,\n",
       "       213, 214, 209, 205, 203, 203, 204, 206, 210, 214, 217, 220, 221,\n",
       "       222, 219, 216, 211, 207, 201, 197, 196, 195, 196, 200, 203, 207,\n",
       "       211, 213, 213, 212, 209, 205, 202, 199, 196, 195, 195, 197, 199,\n",
       "       202, 205, 207, 206, 205, 203, 200, 197, 197, 196, 198, 201, 204,\n",
       "       206, 210, 211, 213, 214, 215, 216, 219, 221, 224, 227, 231, 233,\n",
       "       236, 236, 235, 226, 214, 193, 166, 135, 105,  75,  52,  35,  24,\n",
       "        17,  13,  12,  14,  18,  24,  31,  37,  43], dtype=uint8)"
      ]
     },
     "execution_count": 14,
     "metadata": {},
     "output_type": "execute_result"
    }
   ],
   "source": [
    "for i in range()"
   ]
  },
  {
   "cell_type": "code",
   "execution_count": 6,
   "metadata": {
    "collapsed": true
   },
   "outputs": [],
   "source": [
    "values= dict(zip(a, b))"
   ]
  },
  {
   "cell_type": "code",
   "execution_count": 8,
   "metadata": {
    "collapsed": true
   },
   "outputs": [],
   "source": [
    "c=b"
   ]
  },
  {
   "cell_type": "code",
   "execution_count": 10,
   "metadata": {},
   "outputs": [
    {
     "data": {
      "text/plain": [
       "array([   9,    9,   12,   21,   30,   36,   75,   78,   84,  147,  168,\n",
       "        201,  204,  207,  228,  261,  273,  273,  282,  294,  294,  297,\n",
       "        318,  327,  333,  333,  336,  342,  348,  348,  351,  354,  354,\n",
       "        360,  363,  366,  366,  369,  369,  378,  378,  381,  381,  384,\n",
       "        387,  387,  387,  387,  396,  396,  399,  399,  399,  402,  402,\n",
       "        405,  405,  405,  405,  405,  408,  408,  414,  414,  417,  423,\n",
       "        426,  426,  426,  429,  432,  432,  432,  432,  432,  432,  432,\n",
       "        432,  432,  432,  435,  438,  441,  444,  444,  447,  447,  450,\n",
       "        456,  459,  462,  462,  465,  465,  468,  468,  471,  471,  474,\n",
       "        474,  477,  480,  483,  483,  483,  486,  489,  489,  492,  492,\n",
       "        492,  495,  504,  507,  507,  510,  513,  513,  516,  516,  516,\n",
       "        519,  525,  525,  525,  531,  531,  537,  540,  546,  552,  552,\n",
       "        573,  576,  579,  582,  588,  588,  606,  606,  609,  609,  615,\n",
       "        615,  615,  621,  627,  633,  633,  633,  633,  639,  639,  651,\n",
       "        651,  660,  663,  669,  672,  675,  678,  678,  681,  681,  696,\n",
       "        699,  702,  708,  720,  723,  723,  729,  735,  735,  738,  741,\n",
       "        744,  750,  750,  750,  753,  759,  759,  765,  774,  786,  801,\n",
       "        801,  804,  804,  807,  816,  819,  828,  858,  876,  909,  912,\n",
       "        939,  966,  990, 1008, 1008, 1137, 1215, 1242, 1284, 1473, 1530,\n",
       "       1593, 1662, 1662, 1743, 2082, 2109, 2220, 2445, 2631, 2664, 2823,\n",
       "       3171, 3189, 3348, 3624, 3654, 3747, 3834, 4026, 4227, 4236, 4299,\n",
       "       4452, 4617, 4929, 5175])"
      ]
     },
     "execution_count": 10,
     "metadata": {},
     "output_type": "execute_result"
    }
   ],
   "source": [
    "np.sort(c)"
   ]
  },
  {
   "cell_type": "code",
   "execution_count": null,
   "metadata": {
    "collapsed": true
   },
   "outputs": [],
   "source": []
  },
  {
   "cell_type": "code",
   "execution_count": 11,
   "metadata": {},
   "outputs": [
    {
     "data": {
      "text/plain": [
       "5175"
      ]
     },
     "execution_count": 11,
     "metadata": {},
     "output_type": "execute_result"
    }
   ],
   "source": [
    "np.max(b)"
   ]
  },
  {
   "cell_type": "code",
   "execution_count": 12,
   "metadata": {},
   "outputs": [
    {
     "data": {
      "text/plain": [
       "235"
      ]
     },
     "execution_count": 12,
     "metadata": {},
     "output_type": "execute_result"
    }
   ],
   "source": [
    "len(b)"
   ]
  },
  {
   "cell_type": "code",
   "execution_count": 15,
   "metadata": {},
   "outputs": [
    {
     "name": "stdout",
     "output_type": "stream",
     "text": [
      "203\n",
      "211\n"
     ]
    }
   ],
   "source": [
    "for i in range(235):\n",
    "    if (b[i]==5175):\n",
    "        print a[i]\n",
    "    if(b[i]==4929):\n",
    "        print a[i]"
   ]
  },
  {
   "cell_type": "code",
   "execution_count": 14,
   "metadata": {},
   "outputs": [
    {
     "data": {
      "text/plain": [
       "203"
      ]
     },
     "execution_count": 14,
     "metadata": {},
     "output_type": "execute_result"
    }
   ],
   "source": []
  },
  {
   "cell_type": "code",
   "execution_count": null,
   "metadata": {
    "collapsed": true
   },
   "outputs": [],
   "source": []
  },
  {
   "cell_type": "code",
   "execution_count": null,
   "metadata": {
    "collapsed": true
   },
   "outputs": [],
   "source": [
    "img.shape"
   ]
  },
  {
   "cell_type": "code",
   "execution_count": null,
   "metadata": {
    "collapsed": true
   },
   "outputs": [],
   "source": [
    "hist_1 = cv2.calcHist([img],[0],None,[mean],[0,mean])"
   ]
  },
  {
   "cell_type": "code",
   "execution_count": null,
   "metadata": {
    "collapsed": true
   },
   "outputs": [],
   "source": [
    "a=plt.hist(hist_1)\n",
    "a"
   ]
  },
  {
   "cell_type": "code",
   "execution_count": null,
   "metadata": {
    "collapsed": true
   },
   "outputs": [],
   "source": [
    "ret,thresh = cv2.threshold(img,0,255,cv2.THRESH_BINARY+cv2.THRESH_OTSU)"
   ]
  },
  {
   "cell_type": "code",
   "execution_count": null,
   "metadata": {
    "collapsed": true
   },
   "outputs": [],
   "source": [
    "hist_2 = cv2.calcHist([img],[0],None,[256],[mean,256])"
   ]
  },
  {
   "cell_type": "code",
   "execution_count": null,
   "metadata": {
    "collapsed": true
   },
   "outputs": [],
   "source": [
    "fig2=plt.hist(hist_2,bins=100)\n",
    "plt.show()\n"
   ]
  },
  {
   "cell_type": "code",
   "execution_count": null,
   "metadata": {
    "collapsed": true
   },
   "outputs": [],
   "source": [
    "ret,thresh = cv2.threshold(img,0,255,cv2.THRESH_BINARY+cv2.THRESH_OTSU)"
   ]
  },
  {
   "cell_type": "code",
   "execution_count": null,
   "metadata": {
    "collapsed": true
   },
   "outputs": [],
   "source": []
  },
  {
   "cell_type": "code",
   "execution_count": null,
   "metadata": {
    "collapsed": true
   },
   "outputs": [],
   "source": [
    "plt.xlim((np.amin(arr), np.amax(arr)))\n",
    "\n",
    "mean = np.mean(arr)\n",
    "variance = np.var(arr)\n",
    "sigma = np.sqrt(variance)\n",
    "x = np.linspace(np.amin(arr), np.amax(arr), 100)\n",
    "plt.plot(x, mlab.normpdf(x, mean, sigma))"
   ]
  },
  {
   "cell_type": "code",
   "execution_count": null,
   "metadata": {
    "collapsed": true
   },
   "outputs": [],
   "source": [
    "result = plt.hist(arr)\n",
    "plt.xlim((np.amin(arr), np.amax(arr)))\n",
    "\n",
    "\n",
    "mean = np.mean(arr)\n",
    "variance = np.var(arr)\n",
    "sigma = np.sqrt(variance)\n",
    "x = np.linspace(np.amin(arr), np.amax(arr), 100)\n",
    "dx = result[1][1] - result[1][0]\n",
    "scale = len(arr)*dx\n",
    "plt.plot(x, mlab.normpdf(x, mean, sigma)*scale)\n",
    "\n",
    "plt.show()"
   ]
  },
  {
   "cell_type": "code",
   "execution_count": null,
   "metadata": {
    "collapsed": true
   },
   "outputs": [],
   "source": [
    "import matplotlib.mlab as mlab"
   ]
  },
  {
   "cell_type": "code",
   "execution_count": null,
   "metadata": {
    "collapsed": true
   },
   "outputs": [],
   "source": []
  },
  {
   "cell_type": "code",
   "execution_count": null,
   "metadata": {
    "collapsed": true
   },
   "outputs": [],
   "source": []
  },
  {
   "cell_type": "code",
   "execution_count": null,
   "metadata": {
    "collapsed": true
   },
   "outputs": [],
   "source": []
  },
  {
   "cell_type": "code",
   "execution_count": null,
   "metadata": {
    "collapsed": true
   },
   "outputs": [],
   "source": []
  },
  {
   "cell_type": "code",
   "execution_count": null,
   "metadata": {
    "collapsed": true
   },
   "outputs": [],
   "source": []
  },
  {
   "cell_type": "code",
   "execution_count": null,
   "metadata": {
    "collapsed": true
   },
   "outputs": [],
   "source": []
  },
  {
   "cell_type": "code",
   "execution_count": null,
   "metadata": {
    "collapsed": true
   },
   "outputs": [],
   "source": [
    "histr = cv2.calcHist([img],[0],None,[256],[0,256])"
   ]
  },
  {
   "cell_type": "code",
   "execution_count": null,
   "metadata": {
    "collapsed": true
   },
   "outputs": [],
   "source": [
    "plt.plot(histr)\n",
    "plt.show()"
   ]
  },
  {
   "cell_type": "code",
   "execution_count": null,
   "metadata": {
    "collapsed": true
   },
   "outputs": [],
   "source": [
    "hist,bins = np.histogram(img.ravel(),256,[0,256])\n",
    "plt.plot(hist)\n",
    "plt.show()"
   ]
  },
  {
   "cell_type": "code",
   "execution_count": null,
   "metadata": {
    "collapsed": true
   },
   "outputs": [],
   "source": [
    "plt.plot(hist_full)\n",
    "plt.show()"
   ]
  }
 ],
 "metadata": {
  "kernelspec": {
   "display_name": "Python 2",
   "language": "python",
   "name": "python2"
  },
  "language_info": {
   "codemirror_mode": {
    "name": "ipython",
    "version": 2
   },
   "file_extension": ".py",
   "mimetype": "text/x-python",
   "name": "python",
   "nbconvert_exporter": "python",
   "pygments_lexer": "ipython2",
   "version": "2.7.13"
  }
 },
 "nbformat": 4,
 "nbformat_minor": 2
}
