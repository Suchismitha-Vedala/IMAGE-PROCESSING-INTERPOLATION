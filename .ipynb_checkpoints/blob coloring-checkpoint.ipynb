{
 "cells": [
  {
   "cell_type": "code",
   "execution_count": 1,
   "metadata": {},
   "outputs": [
    {
     "data": {
      "text/plain": [
       "{'divide': 'warn', 'invalid': 'warn', 'over': 'warn', 'under': 'ignore'}"
      ]
     },
     "execution_count": 1,
     "metadata": {},
     "output_type": "execute_result"
    }
   ],
   "source": [
    "import cv2\n",
    "import numpy as np\n",
    "from matplotlib import pyplot as plt\n",
    "np.seterr(divide='ignore', invalid='ignore')"
   ]
  },
  {
   "cell_type": "code",
   "execution_count": 5,
   "metadata": {
    "scrolled": false
   },
   "outputs": [
    {
     "name": "stdout",
     "output_type": "stream",
     "text": [
      "1 area 26\n",
      "386 area 479\n",
      "3 area 271\n",
      "260 area 662\n",
      "7 area 96\n",
      "136 area 631\n",
      "364 area 54\n",
      "267 area 83\n",
      "13 area 421\n",
      "2 area 511\n",
      "20 area 439\n",
      "278 area 170\n",
      "151 area 670\n",
      "280 area 405\n",
      "4 area 208\n",
      "415 area 19\n",
      "288 area 284\n",
      "33 area 475\n",
      "163 area 614\n",
      "166 area 436\n",
      "168 area 587\n",
      "135 area 428\n",
      "172 area 89\n",
      "45 area 551\n",
      "46 area 260\n",
      "303 area 171\n",
      "308 area 248\n",
      "350 area 386\n",
      "310 area 276\n",
      "60 area 386\n",
      "62 area 230\n",
      "319 area 607\n",
      "321 area 273\n",
      "194 area 413\n",
      "68 area 217\n",
      "199 area 460\n",
      "329 area 292\n",
      "78 area 546\n",
      "141 area 368\n",
      "80 area 187\n",
      "81 area 414\n",
      "416 area 72\n",
      "215 area 75\n",
      "88 area 197\n",
      "356 area 231\n",
      "346 area 568\n",
      "207 area 289\n",
      "93 area 654\n",
      "94 area 241\n",
      "228 area 441\n",
      "231 area 642\n",
      "236 area 687\n",
      "110 area 50\n",
      "241 area 160\n",
      "243 area 864\n",
      "244 area 500\n",
      "32 area 525\n",
      "119 area 908\n",
      "404 area 179\n",
      "378 area 482\n",
      "381 area 358\n"
     ]
    },
    {
     "ename": "ZeroDivisionError",
     "evalue": "integer division or modulo by zero",
     "output_type": "error",
     "traceback": [
      "\u001b[0;31m---------------------------------------------------------------------------\u001b[0m",
      "\u001b[0;31mZeroDivisionError\u001b[0m                         Traceback (most recent call last)",
      "\u001b[0;32m<ipython-input-5-93e6b783324e>\u001b[0m in \u001b[0;36m<module>\u001b[0;34m()\u001b[0m\n\u001b[1;32m     97\u001b[0m     \u001b[0mx_cord\u001b[0m\u001b[0;34m=\u001b[0m\u001b[0;34m[\u001b[0m\u001b[0mv\u001b[0m\u001b[0;34m[\u001b[0m\u001b[0mi\u001b[0m\u001b[0;34m]\u001b[0m\u001b[0;34m[\u001b[0m\u001b[0;36m0\u001b[0m\u001b[0;34m]\u001b[0m \u001b[0;32mfor\u001b[0m \u001b[0mi\u001b[0m \u001b[0;32min\u001b[0m \u001b[0mrange\u001b[0m\u001b[0;34m(\u001b[0m\u001b[0ml\u001b[0m\u001b[0;34m)\u001b[0m\u001b[0;34m]\u001b[0m\u001b[0;34m\u001b[0m\u001b[0m\n\u001b[1;32m     98\u001b[0m     \u001b[0my_cord\u001b[0m \u001b[0;34m=\u001b[0m\u001b[0;34m[\u001b[0m\u001b[0mv\u001b[0m\u001b[0;34m[\u001b[0m\u001b[0mj\u001b[0m\u001b[0;34m]\u001b[0m\u001b[0;34m[\u001b[0m\u001b[0;36m1\u001b[0m\u001b[0;34m]\u001b[0m \u001b[0;32mfor\u001b[0m \u001b[0mj\u001b[0m \u001b[0;32min\u001b[0m \u001b[0mrange\u001b[0m\u001b[0;34m(\u001b[0m\u001b[0ml\u001b[0m\u001b[0;34m)\u001b[0m\u001b[0;34m]\u001b[0m\u001b[0;34m\u001b[0m\u001b[0m\n\u001b[0;32m---> 99\u001b[0;31m     \u001b[0mxc\u001b[0m\u001b[0;34m=\u001b[0m\u001b[0mint\u001b[0m\u001b[0;34m(\u001b[0m\u001b[0;34m(\u001b[0m\u001b[0msum\u001b[0m\u001b[0;34m(\u001b[0m\u001b[0mx_cord\u001b[0m\u001b[0;34m)\u001b[0m\u001b[0;34m)\u001b[0m\u001b[0;34m/\u001b[0m\u001b[0ml\u001b[0m\u001b[0;34m)\u001b[0m\u001b[0;34m\u001b[0m\u001b[0m\n\u001b[0m\u001b[1;32m    100\u001b[0m     \u001b[0myc\u001b[0m\u001b[0;34m=\u001b[0m\u001b[0mint\u001b[0m\u001b[0;34m(\u001b[0m\u001b[0;34m(\u001b[0m\u001b[0msum\u001b[0m\u001b[0;34m(\u001b[0m\u001b[0my_cord\u001b[0m\u001b[0;34m)\u001b[0m\u001b[0;34m)\u001b[0m\u001b[0;34m/\u001b[0m\u001b[0ml\u001b[0m\u001b[0;34m)\u001b[0m\u001b[0;34m\u001b[0m\u001b[0m\n\u001b[1;32m    101\u001b[0m     \u001b[0mcent\u001b[0m\u001b[0;34m=\u001b[0m\u001b[0;34m[\u001b[0m\u001b[0mxc\u001b[0m\u001b[0;34m,\u001b[0m\u001b[0myc\u001b[0m\u001b[0;34m]\u001b[0m\u001b[0;34m\u001b[0m\u001b[0m\n",
      "\u001b[0;31mZeroDivisionError\u001b[0m: integer division or modulo by zero"
     ]
    }
   ],
   "source": [
    "new_img = cv2.imread('cells.png',0)\n",
    "w,h=new_img.shape\n",
    "img=np.zeros((w,h),np.uint8)\n",
    "optimal=135\n",
    "for i in range(w):\n",
    "    for j in range(h):\n",
    "        if (new_img[i,j]>=optimal):\n",
    "            img[i,j]=0\n",
    "        else:\n",
    "            img[i,j]=255\n",
    "w,h=img.shape\n",
    "k=1\n",
    "R=np.zeros((w,h),np.uint32)\n",
    "R1=np.zeros((w,h),np.uint8)\n",
    "for j in range(h):\n",
    "    for i in range(w):\n",
    "        if (img[i,j]==255):\n",
    "            if (i==0 and j>0) :\n",
    "                if (R[i, j-1]==0) :\n",
    "                    R[i, j] = k\n",
    "                    k = k + 1\n",
    "                if (R[i, j - 1] > 0):\n",
    "                    R[i, j] = R[i, j-1]\n",
    "                \n",
    "                \n",
    "            if (j==0 and i>0) :\n",
    "                if (R[i-1,j]>0):\n",
    "                    R[i,j]=R[i-1,j]\n",
    "                if (R[i-1,j]==0):\n",
    "                    R[i, j] = k\n",
    "                    k = k + 1\n",
    "                \n",
    "            if(i-1>=0 and j-1>=0):\n",
    "                if( R[i][j-1]>0 and R[i-1][j]==0):\n",
    "                    R[i,j]=R[i,j-1]\n",
    "                if( R[i][j-1]==0 and R[i-1][j]>0):\n",
    "                    R[i,j]=R[i-1,j]\n",
    "                if( R[i][j-1]==0 and R[i-1][j]==0):\n",
    "                    R[i,j]=k\n",
    "                    k=k+1\n",
    "                if( R[i][j-1]>0 and R[i-1][j]>0):\n",
    "                    R[i,j]=R[i,j-1]\n",
    "                    R[i-1,j]=R[i,j-1]\n",
    "                    p=2\n",
    "                    q=0\n",
    "                    while(q==0):\n",
    "                        if (R[i-p,j]!=0):\n",
    "                                R[i-p,j]=R[i-p+1,j]\n",
    "                                p=p+1\n",
    "                        \n",
    "                        else :\n",
    "                                q=1\n",
    "S = [0] * k\n",
    "for i in range(w):\n",
    "    for j in range(h):\n",
    "        if R[i, j] > 0:\n",
    "            S[R[i, j]] = S[R[i, j]] + 1\n",
    "for i in range(w):\n",
    "    for j in range(h):\n",
    "            if S[R[i, j]] > 15:\n",
    "                R1[i, j] = R[i, j]\n",
    "                if R1[i, j] == 0:\n",
    "                    R1[i, j] = 0\n",
    "                else:\n",
    "                    R1[i, j] = 255\n",
    "\n",
    "\n",
    "regions=dict()\n",
    "for i in range(w):\n",
    "        for j in range(h):\n",
    "            if (R[i,j]!=0):\n",
    "                if  R[i,j] in regions:\n",
    "                    regions[R[i,j]].append([i,j])\n",
    "                else:\n",
    "                    regions[R[i,j]]=[[i,j]]\n",
    "\n",
    "regions\n",
    "\n",
    "\n",
    "i=0\n",
    "for k,v in regions.iteritems():\n",
    "    if(len(v)>15):\n",
    "        print k, \"area\", len(v)\n",
    "        i=i+1\n",
    "\n",
    "\n",
    "centroid=[]\n",
    "stats=[]\n",
    "region_statistics=dict()\n",
    "for k,v in regions.iteritems():\n",
    "    cent=[]\n",
    "    xc=yc=0\n",
    "    x_cord=[]\n",
    "    y_cord=[]\n",
    "    l=len(v)\n",
    "    x_cord=[v[i][0] for i in range(l)]\n",
    "    y_cord =[v[j][1] for j in range(l)]\n",
    "    xc=int((sum(x_cord))/l)\n",
    "    yc=int((sum(y_cord))/l)\n",
    "    cent=[xc,yc]\n",
    "    centroid.append(cent)\n",
    "    area=l\n",
    "    stats.append([area,cent])\n",
    "    region_statistics[k]=[area,cent]\n",
    "    print \"Region\",k,\"Centroid\",[xc,yc],\"Area\",len(v)\n",
    "   # if(k==128):\n",
    "     #   print v[1][1]\n",
    "\n",
    "\n"
   ]
  },
  {
   "cell_type": "code",
   "execution_count": null,
   "metadata": {},
   "outputs": [],
   "source": [
    "v=regions[172]"
   ]
  },
  {
   "cell_type": "code",
   "execution_count": null,
   "metadata": {},
   "outputs": [],
   "source": [
    "for i in range(len(v)):\n",
    "    print v[i][0]"
   ]
  },
  {
   "cell_type": "code",
   "execution_count": null,
   "metadata": {},
   "outputs": [],
   "source": [
    "from PIL import Image\n",
    "im = Image.fromarray(R1)\n",
    "im.show()"
   ]
  },
  {
   "cell_type": "code",
   "execution_count": 4,
   "metadata": {},
   "outputs": [
    {
     "ename": "TypeError",
     "evalue": "unhashable type: 'list'",
     "output_type": "error",
     "traceback": [
      "\u001b[0;31m---------------------------------------------------------------------------\u001b[0m",
      "\u001b[0;31mTypeError\u001b[0m                                 Traceback (most recent call last)",
      "\u001b[0;32m<ipython-input-4-664bbbe19f16>\u001b[0m in \u001b[0;36m<module>\u001b[0;34m()\u001b[0m\n\u001b[1;32m      1\u001b[0m \u001b[0;32mfor\u001b[0m \u001b[0mk\u001b[0m \u001b[0;32min\u001b[0m \u001b[0mregions\u001b[0m\u001b[0;34m.\u001b[0m\u001b[0miteritems\u001b[0m\u001b[0;34m(\u001b[0m\u001b[0;34m)\u001b[0m\u001b[0;34m:\u001b[0m\u001b[0;34m\u001b[0m\u001b[0m\n\u001b[0;32m----> 2\u001b[0;31m     \u001b[0mv\u001b[0m\u001b[0;34m=\u001b[0m\u001b[0mregions\u001b[0m\u001b[0;34m[\u001b[0m\u001b[0mk\u001b[0m\u001b[0;34m]\u001b[0m\u001b[0;34m\u001b[0m\u001b[0m\n\u001b[0m\u001b[1;32m      3\u001b[0m \u001b[0;34m\u001b[0m\u001b[0m\n\u001b[1;32m      4\u001b[0m     \u001b[0marea\u001b[0m\u001b[0;34m=\u001b[0m\u001b[0mlen\u001b[0m\u001b[0;34m(\u001b[0m\u001b[0mv\u001b[0m\u001b[0;34m)\u001b[0m\u001b[0;34m\u001b[0m\u001b[0m\n\u001b[1;32m      5\u001b[0m     \u001b[0;31m#x=int(centroid[i][0])\u001b[0m\u001b[0;34m\u001b[0m\u001b[0;34m\u001b[0m\u001b[0m\n",
      "\u001b[0;31mTypeError\u001b[0m: unhashable type: 'list'"
     ]
    }
   ],
   "source": [
    "for k in regions.iteritems():\n",
    "    v=regions[k]\n",
    "\n",
    "    area=len(v)\n",
    "    #x=int(centroid[i][0])\n",
    "    #y=int(centroid[i][1])\n",
    "    #line='x'\n",
    "    #font = cv2.FONT_HERSHEY_SIMPLEX\n",
    "    #cv2.putText(img,line,(x,y), font, 4,(32,32,32),1,2)\n",
    "    #cv2.putText(R1, line, (int(x), int(y)), cv2.FONT_HERSHEY_SIMPLEX, 0.25, 100)\n",
    "    #cv2.putText(img, line, (x, y ), cv2.FONT_HERSHEY_SIMPLEX, 1, 2)\n",
    "                "
   ]
  },
  {
   "cell_type": "code",
   "execution_count": null,
   "metadata": {
    "collapsed": true
   },
   "outputs": [],
   "source": []
  },
  {
   "cell_type": "code",
   "execution_count": null,
   "metadata": {
    "collapsed": true
   },
   "outputs": [],
   "source": []
  },
  {
   "cell_type": "code",
   "execution_count": null,
   "metadata": {
    "collapsed": true
   },
   "outputs": [],
   "source": []
  },
  {
   "cell_type": "code",
   "execution_count": null,
   "metadata": {
    "collapsed": true
   },
   "outputs": [],
   "source": []
  },
  {
   "cell_type": "code",
   "execution_count": null,
   "metadata": {
    "collapsed": true
   },
   "outputs": [],
   "source": []
  },
  {
   "cell_type": "code",
   "execution_count": null,
   "metadata": {
    "collapsed": true
   },
   "outputs": [],
   "source": []
  },
  {
   "cell_type": "code",
   "execution_count": null,
   "metadata": {
    "collapsed": true
   },
   "outputs": [],
   "source": [
    "from PIL import Image\n",
    "im = Image.fromarray(R1)\n",
    "im.show()"
   ]
  },
  {
   "cell_type": "code",
   "execution_count": null,
   "metadata": {
    "collapsed": true
   },
   "outputs": [],
   "source": [
    "for i in range(l):\n",
    "    area=stats[i][0]\n",
    "    x=int(centroid[i][0])\n",
    "    y=int(centroid[i][1])\n",
    "    line='x.area'\n",
    "    #font = cv2.FONT_HERSHEY_SIMPLEX\n",
    "    #cv2.putText(img,line,(x,y), font, 4,(32,32,32),1,2)\n",
    "    cv2.putText(R1, line, (int(x), int(y)), cv2.FONT_HERSHEY_SIMPLEX, 0.25, 100)\n",
    "    #cv2.putText(img, line, (x, y ), cv2.FONT_HERSHEY_SIMPLEX, 1, 2)\n",
    "                \n",
    "                \n",
    "                "
   ]
  }
 ],
 "metadata": {
  "kernelspec": {
   "display_name": "Python 2",
   "language": "python",
   "name": "python2"
  },
  "language_info": {
   "codemirror_mode": {
    "name": "ipython",
    "version": 2
   },
   "file_extension": ".py",
   "mimetype": "text/x-python",
   "name": "python",
   "nbconvert_exporter": "python",
   "pygments_lexer": "ipython2",
   "version": "2.7.13"
  }
 },
 "nbformat": 4,
 "nbformat_minor": 2
}
